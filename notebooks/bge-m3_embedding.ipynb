{
 "cells": [
  {
   "cell_type": "code",
   "execution_count": 1,
   "metadata": {},
   "outputs": [],
   "source": [
    "# Optional: LangSmith API keys\n",
    "import os\n",
    "from dotenv import load_dotenv\n",
    "\n",
    "load_dotenv(override=True)\n",
    "\n",
    "os.environ[\"LANGCHAIN_TRACING_V2\"] = \"true\"\n",
    "os.environ[\"LANGCHAIN_ENDPOINT\"] = \"https://api.smith.langchain.com\""
   ]
  },
  {
   "cell_type": "markdown",
   "metadata": {},
   "source": [
    "## Document Loading"
   ]
  },
  {
   "cell_type": "code",
   "execution_count": 2,
   "metadata": {},
   "outputs": [
    {
     "name": "stderr",
     "output_type": "stream",
     "text": [
      "100%|██████████| 1/1 [00:03<00:00,  3.48s/it]\n"
     ]
    }
   ],
   "source": [
    "from langchain_community.document_loaders import DirectoryLoader\n",
    "from langchain.text_splitter import RecursiveCharacterTextSplitter\n",
    "\n",
    "loader = DirectoryLoader('../data/robinson', show_progress=True)\n",
    "documents = loader.load()\n"
   ]
  },
  {
   "cell_type": "code",
   "execution_count": 3,
   "metadata": {},
   "outputs": [],
   "source": [
    "# from langchain_community.document_loaders import PyPDFLoader\n",
    "# from langchain.text_splitter import RecursiveCharacterTextSplitter\n",
    "\n",
    "# loader = PyPDFLoader(\"../data/Robinson Advisory.pdf\")\n",
    "# pages = loader.load()\n",
    "# for page in pages:\n",
    "#     # just change the page_content to remove the newlines inserted instead of spaces\n",
    "#     page.page_content = page.page_content.replace('\\n', ' ')\n",
    "# text_splitter = RecursiveCharacterTextSplitter(chunk_size=1000, chunk_overlap=200)\n",
    "# chunks = text_splitter.split_documents(pages)"
   ]
  },
  {
   "cell_type": "markdown",
   "metadata": {},
   "source": [
    "## Splitting"
   ]
  },
  {
   "cell_type": "code",
   "execution_count": 4,
   "metadata": {},
   "outputs": [
    {
     "name": "stdout",
     "output_type": "stream",
     "text": [
      "21\n"
     ]
    },
    {
     "data": {
      "text/plain": [
       "[Document(page_content='ADVISORY SERVICES AGREEMENT\\n\\nThis Advisory Services Agreement is entered into as of June 15th, 2023 (the “Effective Date”), by and between Cloud Investments Ltd., ID 51-426526-3, an Israeli company (the \"Company\"), and Mr. Jack Robinson, Passport Number 780055578, Israel, Email: jackrobinson@gmail.com (\"Advisor\").\\n\\nresiding\\n\\nat 1 Rabin st, Tel Aviv,\\n\\nWhereas,\\n\\nAdvisor has expertise and/or knowledge and/or relationships, which are relevant to the Company’s business and the Company has asked Advisor to provide it with certain Advisory services, as described in this Agreement; and\\n\\nWhereas,\\n\\nAdvisor has agreed to provide the Company with such services, subject to the terms set forth in this Agreement.\\n\\nNOW THEREFORE THE PARTIES AGREE AS FOLLOWS:\\n\\n1. Services:\\n\\n1.1', metadata={'source': '../data/robinson/Robinson Advisory.pdf'}),\n",
       " Document(page_content='Whereas,\\n\\nAdvisor has agreed to provide the Company with such services, subject to the terms set forth in this Agreement.\\n\\nNOW THEREFORE THE PARTIES AGREE AS FOLLOWS:\\n\\n1. Services:\\n\\n1.1\\n\\nAdvisor shall provide to the Company, as an independent contractor, software development services, and / or any other services as agreed by the parties from time to time (the “Services”). Advisor shall not appoint any sub-agents or delegates in connection with performance of the Services, nor assign any of his obligations or rights hereunder without obtaining the prior written consent of the Company.\\n\\nWithout derogating from the foregoing, the Advisor shall not be required to provide the Services for a period of eighteen (18) days in each 12-month period.\\n\\n1.2', metadata={'source': '../data/robinson/Robinson Advisory.pdf'}),\n",
       " Document(page_content='Without derogating from the foregoing, the Advisor shall not be required to provide the Services for a period of eighteen (18) days in each 12-month period.\\n\\n1.2\\n\\ntalent, In performing the Services, Advisor shall devote his time, know-how, expertise, experience and best efforts and attention to the provision of the Services, as shall be reasonably required by the Company. Advisor shall render the Services in a diligent manner and at a high professional standard for the benefit of the Company and shall perform and discharge well and faithfully, with devotion, honesty and fidelity, his obligations hereunder.\\n\\n1.3', metadata={'source': '../data/robinson/Robinson Advisory.pdf'}),\n",
       " Document(page_content=\"1.3\\n\\nAdvisor further agrees and undertakes to (i) comply with all the Company's policies, procedures and objectives, as in effect from time to time; (ii) adhere to any applicable law or provision, pertaining to his services; (iii) not take any action with the intention that the same will cause material damage to the good name of the Company; (iv) keep the contents of this Agreement confidential and not to disclose the existence or contents of this Agreement to any third party without the prior written consent of the Company.\\n\\n2. Time Tracking: Advisor shall provide the Company with a written report, in a format acceptable by the Company, setting forth the number of hours in which he provided the Services, on a daily basis, as well as an aggregated monthly report at the last day of each calendar month.\", metadata={'source': '../data/robinson/Robinson Advisory.pdf'}),\n",
       " Document(page_content='3. No Conflicts: Advisor represents that there is no contractual or other legal restriction preventing or limiting him/her from entering into this Agreement or performing any of his/her obligations hereunder. Advisor shall immediately and without delay inform the Company of any affairs and/or matters that might constitute a conflict of interest with his/her services to Company and/or the interests of the Company. Advisor agrees to indemnify, defend and hold harmless the Company and its directors, officers and employees against all claims, liabilities, and costs, including reasonable attorneys\\' fees in connection with any breach by Advisor, of any obligations pursuant to a prior or existing engagement with any other third party, including without limitation other employers or clients.\\n\\n- 2-\\n\\n4. Term: The term of this Agreement shall commence on the Effective Date and shall continue until terminated in accordance with the provisions herein (the \"Term\").', metadata={'source': '../data/robinson/Robinson Advisory.pdf'}),\n",
       " Document(page_content='- 2-\\n\\n4. Term: The term of this Agreement shall commence on the Effective Date and shall continue until terminated in accordance with the provisions herein (the \"Term\").\\n\\n5. Termination: Either party, at any given time, may terminate this Agreement, for any reason whatsoever, with or without cause, upon fourteen (14) days’ prior written notice. Notwithstanding the above, the Company may terminate this Agreement immediately and without prior notice if Advisor refuses or is unable to perform the Services, or is in breach of any provision of this Agreement.\\n\\n6. Compensation:\\n\\n6.1', metadata={'source': '../data/robinson/Robinson Advisory.pdf'}),\n",
       " Document(page_content='6. Compensation:\\n\\n6.1\\n\\nAs full and sole consideration for the Services, and subject to the performance of the Services, the Company shall pay the Advisor, against an invoice provided to the Company by Advisor, hourly fees at a rate of USD 9 (nine) per Billable Hour as defined below, limited to a maximum of USD 1,500 per month (the \"Fees\"). In addition, the Company shall pay the advisor USD 100 per month to finance a workspace for the Advisor, as long as the Advisor actually hires a professional workspace (the “Workspace Expense”). Advisor will not be entitled to any additional fees or expense reimbursement whatsoever, except as expressly provided for in this Agreement.\\n\\nBillable Hour: Net time devoted to the provisioning of the Services, without calculating meals, travels or any other overhead time borne by the Advisor.\\n\\n6.2', metadata={'source': '../data/robinson/Robinson Advisory.pdf'}),\n",
       " Document(page_content=\"Billable Hour: Net time devoted to the provisioning of the Services, without calculating meals, travels or any other overhead time borne by the Advisor.\\n\\n6.2\\n\\nThe Fees and the Workspace Expense for each month shall be payable by no later than ten (10) days from the beginning of the following month, against receipt by the Company of a duly issued tax invoice.\\n\\n6.3\\n\\nthe Company shall reimburse Advisor for any reasonable and actual expenses In addition, incurred by the Advisor in connection with the performance of the Services, all in accordance with the Company’s policies as determined by the Board of Directors from time to time, and subject to Company's prior written consent for each specific expense, before Advisor incurs such expenses. As a condition to reimbursement, Advisor shall provide the Company with copies of all invoices, receipts and other evidence of expenditures as required by Company policy.\\n\\n6.4\", metadata={'source': '../data/robinson/Robinson Advisory.pdf'}),\n",
       " Document(page_content='6.4\\n\\nAdvisor shall be solely responsible for any income taxes or other assessments made or imposed to the Services rendered and the by any governmental authority on Advisor with respect compensation received hereunder, and any and all expenses and costs of himself, employees, agents and representatives, including, without limitation, any salary, overtime, severance or social benefits payable thereto, and marketing costs incurred in connection with the performance of obligations hereunder.\\n\\n7. Confidentiality, Non-Competition and IP Ownership Undertaking: In connection with the the Advisor shall execute a performance of Advisor’s obligations under Confidentiality, Non-Competition and IP Ownership Undertaking in the form attached hereto as Exhibit A. this Agreement,', metadata={'source': '../data/robinson/Robinson Advisory.pdf'}),\n",
       " Document(page_content=\"8. Relationship of the Parties; Indemnification: The sole relationship between the Company and the Advisor shall be that of independent contractors. Advisor shall not be deemed to be, nor treated by the Company as, an employee of the Company. Advisor shall not receive nor be entitled to overtime pay, insurance, paid vacation, severance payments or similar fringe or employment benefits from the Company. Without derogating from the above, if it is adjudicated or otherwise determined by any governmental authority that the Advisor and/or anyone on Advisor's behalf, is, regardless of the terms of this Agreement, an employee of the Company, then payments to Advisor hereunder shall be reduced effective retroactively as of the beginning of the Term so that 60% of such payments shall\\n\\n- 3-\", metadata={'source': '../data/robinson/Robinson Advisory.pdf'}),\n",
       " Document(page_content='- 3-\\n\\nconstitute salary payments, and 40% of such payments shall constitute payment by the Company for all other Advisor statutory rights and benefits as employee of the Company throughout the Term. Advisor further consents that the Company may offset any amounts due to him under this Section from any amounts payable to Advisor under this Agreement. Advisor shall indemnify the Company for any loss or expenses incurred by the Company if it were determined that an alleged employer/employee relationship existed between the Advisor and the Company.', metadata={'source': '../data/robinson/Robinson Advisory.pdf'}),\n",
       " Document(page_content='9. Entire Agreement; No Waiver or Assignment: This Agreement together with the Exhibits, which are attached hereto and incorporated herein, set forth the entire Agreement between the parties and shall supersede all previous communications and agreements between the parties, either oral or written. This Agreement may be modified only by a written amendment executed by both parties. This Agreement may not be assigned, sold, delegated or transferred in any manner by Advisor for any reason whatsoever. The Company may assign the Agreement to a successor of all or substantially all of its assets or business, provided the assignee has assumed the Company’s obligations under this Agreement.', metadata={'source': '../data/robinson/Robinson Advisory.pdf'}),\n",
       " Document(page_content='10. Governing Law and Jurisdiction: This Agreement shall be governed by the laws of the State of Israel, without giving effect to the rules respecting conflicts of laws. The parties consent to the exclusive jurisdiction and venue of Tel Aviv courts for any lawsuit filed arising from or relating to this Agreement.\\n\\n11. Notices: Notices under this Agreement shall be delivered to the party’s email address as follows: Company: info@cloudcorp.com, Advisor: jackrobinson@gmail.com, or in any the other means with a proof of acceptance by the other party.\\n\\nIN WITNESS WHEREOF the parties have executed this Agreement as of the date first above written.\\n\\nCloud Investments Ltd.\\n\\nAdvisor\\n\\nBy: ________________________\\n\\nBy:________________________\\n\\nName: Silvan Joseph\\n\\nName: Jack Robinson\\n\\nTitle: CEO\\n\\n- 4-\\n\\nConfidentiality, None Compete and IP Ownership Undertaking Appendix A to Advisory Service Agreement as of June 15th, 2023', metadata={'source': '../data/robinson/Robinson Advisory.pdf'}),\n",
       " Document(page_content='Name: Silvan Joseph\\n\\nName: Jack Robinson\\n\\nTitle: CEO\\n\\n- 4-\\n\\nConfidentiality, None Compete and IP Ownership Undertaking Appendix A to Advisory Service Agreement as of June 15th, 2023\\n\\nTHIS CONFIDENTIALITY UNDERTAKING (“Undertaking”) is entered into as of June 15th, 2023 (“Effective Date”), by Mr. Jack Robinson, Passport Number 780055578, residing at 1 Rabin st, Tel Aviv, Israel, Email: jackrobinson@gmail.com, (“Advisor”), towards Cloud Investments Ltd (“Company”), as follows:', metadata={'source': '../data/robinson/Robinson Advisory.pdf'}),\n",
       " Document(page_content='1. Definitions: (a) Company’s Business: development of an AI-based contract assistant. (b) Services: Software development services and/or any other services provided by the Advisor to the Company. (c) Work Product: Any product of the Services, tangible and/or intangible, including any inventions, discoveries and/or other intellectual property. (d) Confidential Information: any information disclosed by the Company to the Advisor and/or created as a result of the Services (including Work Product), of any type, form (including orally) or media, including (without limitation), code, specifications, architecture, design, data, algorithms, business plans, budget, customers / suppliers lists etc.), but excluding information which prior to the disclosure was publicly available or known to the Advisor (both without breach of any confidentiality obligation towards the Company).', metadata={'source': '../data/robinson/Robinson Advisory.pdf'}),\n",
       " Document(page_content='2. Use: The Advisor may use the Confidential Information only for the purpose of providing the Services and shall not obtain any rights in it. The Advisor shall stop using Confidential Information and/or return it to the Company and/or destroy it immediately upon Company’s request. The Advisor may disclose Confidential Information in case this is required by law, but only to the extent required and after providing the Company a prompt written notice and subject to promptly cooperate with the Company in seeking a protective order. Safeguard: The Advisor shall safeguard the Confidential Information, keep it in strict confidence and shall not disclose it to any third party without the prior written consent of the Company.', metadata={'source': '../data/robinson/Robinson Advisory.pdf'}),\n",
       " Document(page_content='2. Use: The Advisor may use the Confidential Information only for the purpose of providing the Services and shall not obtain any rights in it. The Advisor shall stop using Confidential Information and/or return it to the Company and/or destroy it immediately upon Company’s request. The Advisor may disclose Confidential Information in case this is required by law, but only to the extent required and after providing the Company a prompt written notice and subject to promptly cooperate with the Company in seeking a protective order. Safeguard: The Advisor shall safeguard the Confidential Information, keep it in strict confidence and shall not disclose it to any third party without the prior written consent of the Company.', metadata={'source': '../data/robinson/Robinson Advisory.pdf'}),\n",
       " Document(page_content='IP: Any Work Product, upon creation, shall be fully and exclusively owned by the Company. The Advisor, immediately upon Company’s request, shall sign any document and/or perform any action needed to formalize such ownership. The Advisor shall not obtain any rights in the Work Product, including moral rights and/or rights for royalties or other consideration under any applicable law (including Section 134 of the Israeli Patent Law – 1967 if applicable), and shall not be entitled to any compensation with respect to the Services, which was not specifically agreed, in writing, between the Advisor and the Company.', metadata={'source': '../data/robinson/Robinson Advisory.pdf'}),\n",
       " Document(page_content='5. Non-Compete: During the term of engagement with the Company and for a period of 12 months thereafter, Advisor shall not be involved, as an employee, owner, contractor or otherwise, in any business, which competes with the Company’s Business, and shall not solicit and/or hire any employee and/or service provider of the Company, without the prior written consent of the Company.\\n\\n6.\\n\\nPersonnel: The Advisor may provide the Services only directly or through employees, contractors or agents (“Personnel”), which were specifically approved by the Company, and have committed in writing to confidentiality and ownership rights towards the Advisor and/or the Company, in a form restrictive enough to allow Advisor to comply and enforce the commitments under this undertaking (“Authorized Personnel”). Without limiting the foregoing, the Advisor is liable hereunder for any breach of this undertaking by any Advisor Personnel.', metadata={'source': '../data/robinson/Robinson Advisory.pdf'}),\n",
       " Document(page_content='7. Third Parties: The Advisor represents that the performance of the Services and the terms of this Undertaking, do not and will not breach any right, contractual or other, of any employer, customer or other third party. Advisor acknowledges that the Company is relying upon the truthfulness and accuracy of such representations in engaging with the Advisor. Advisor specifically undertakes not to use any proprietary and/or confidential information belonging to the Advisor and/or any third party while performing the Services and in case any Advisor proprietary or confidential information is used, such information will be automatically assigned to the Company and become its full and exclusive property.\\n\\n8.', metadata={'source': '../data/robinson/Robinson Advisory.pdf'}),\n",
       " Document(page_content='8.\\n\\nJurisdiction: This Undertaking shall be governed by and construed in accordance with the laws of the State of Israel, without giving effect to its laws pertaining to conflict of laws. The Advisor agrees that any and all disputes in connection with this Undertaking shall be submitted to the exclusive jurisdiction of the competent courts in the city of Tel Aviv-Yafo, Israel.\\n\\n9.\\n\\nPre-Undertaking: In case the Advisor has been providing Services to the Company before the Effective Date (“Pre-Undertaking Period”), this Undertaking shall also apply to the Pre-Undertaking Period, including, if relevant, before Company’s incorporation. The Company may assign this undertaking to third parties.\\n\\nIN WITNESS WHEREOF, the undersigned has executed this Undertaking as of the Effective Date.\\n\\nAdvisor\\n\\nBy: _____________________________________\\n\\nName: Jack Robinson', metadata={'source': '../data/robinson/Robinson Advisory.pdf'})]"
      ]
     },
     "execution_count": 4,
     "metadata": {},
     "output_type": "execute_result"
    }
   ],
   "source": [
    "text_splitter = RecursiveCharacterTextSplitter(chunk_size=1000, chunk_overlap=200)\n",
    "chunks = text_splitter.split_documents(documents)\n",
    "print(len(chunks))\n",
    "chunks"
   ]
  },
  {
   "cell_type": "code",
   "execution_count": 5,
   "metadata": {},
   "outputs": [
    {
     "name": "stdout",
     "output_type": "stream",
     "text": [
      "965\n"
     ]
    }
   ],
   "source": [
    "print(max([len(chunk.page_content) for chunk in chunks]))"
   ]
  },
  {
   "cell_type": "markdown",
   "metadata": {},
   "source": [
    "## Getting the number of characters for each chunk"
   ]
  },
  {
   "cell_type": "code",
   "execution_count": 6,
   "metadata": {},
   "outputs": [
    {
     "name": "stdout",
     "output_type": "stream",
     "text": [
      "The chunk has 771 characters\n",
      "The chunk has 753 characters\n",
      "The chunk has 618 characters\n",
      "The chunk has 812 characters\n",
      "The chunk has 965 characters\n",
      "The chunk has 583 characters\n",
      "The chunk has 836 characters\n",
      "The chunk has 922 characters\n",
      "The chunk has 774 characters\n",
      "The chunk has 791 characters\n",
      "The chunk has 550 characters\n",
      "The chunk has 691 characters\n",
      "The chunk has 924 characters\n",
      "The chunk has 479 characters\n",
      "The chunk has 880 characters\n",
      "The chunk has 728 characters\n",
      "The chunk has 728 characters\n",
      "The chunk has 616 characters\n",
      "The chunk has 924 characters\n",
      "The chunk has 711 characters\n",
      "The chunk has 863 characters\n"
     ]
    }
   ],
   "source": [
    "for chunk in chunks:\n",
    "    print(\"The chunk has %s characters\" % len(chunk.page_content))"
   ]
  },
  {
   "cell_type": "markdown",
   "metadata": {},
   "source": [
    "## Vector Store"
   ]
  },
  {
   "cell_type": "code",
   "execution_count": 7,
   "metadata": {},
   "outputs": [
    {
     "name": "stderr",
     "output_type": "stream",
     "text": [
      "/Users/abdi/miniconda3/envs/legal_contract_advisor/lib/python3.10/site-packages/tqdm/auto.py:21: TqdmWarning: IProgress not found. Please update jupyter and ipywidgets. See https://ipywidgets.readthedocs.io/en/stable/user_install.html\n",
      "  from .autonotebook import tqdm as notebook_tqdm\n"
     ]
    }
   ],
   "source": [
    "from langchain.embeddings.huggingface import HuggingFaceBgeEmbeddings\n",
    "\n",
    "model_name = \"BAAI/bge-m3\"\n",
    "encode_kwargs = {'normalize_embeddings': True} # set True to compute cosine similarity\n",
    "\n",
    "embedding_function = HuggingFaceBgeEmbeddings(\n",
    "    model_name=model_name,\n",
    "    # model_kwargs={'device': 'cuda'},\n",
    "    encode_kwargs=encode_kwargs\n",
    ")"
   ]
  },
  {
   "cell_type": "code",
   "execution_count": 8,
   "metadata": {},
   "outputs": [],
   "source": [
    "# storing the chunks in a vector store\n",
    "from langchain_community.vectorstores.faiss import FAISS\n",
    "\n",
    "# FAISS.from_documents(pages, model)\n",
    "# save to disk\n",
    "db = FAISS.from_documents(chunks, embedding_function)\n",
    "db.save_local(\"../data/faiss_index\")\n"
   ]
  },
  {
   "cell_type": "code",
   "execution_count": 27,
   "metadata": {},
   "outputs": [],
   "source": [
    "retriever = db.as_retriever(search_kwargs={\"k\": 5})"
   ]
  },
  {
   "cell_type": "code",
   "execution_count": 29,
   "metadata": {},
   "outputs": [
    {
     "name": "stdout",
     "output_type": "stream",
     "text": [
      "[Document(page_content='- 3-\\n\\nconstitute salary payments, and 40% of such payments shall constitute payment by the Company for all other Advisor statutory rights and benefits as employee of the Company throughout the Term. Advisor further consents that the Company may offset any amounts due to him under this Section from any amounts payable to Advisor under this Agreement. Advisor shall indemnify the Company for any loss or expenses incurred by the Company if it were determined that an alleged employer/employee relationship existed between the Advisor and the Company.', metadata={'source': '../data/robinson/Robinson Advisory.pdf'}), Document(page_content='6. Compensation:\\n\\n6.1\\n\\nAs full and sole consideration for the Services, and subject to the performance of the Services, the Company shall pay the Advisor, against an invoice provided to the Company by Advisor, hourly fees at a rate of USD 9 (nine) per Billable Hour as defined below, limited to a maximum of USD 1,500 per month (the \"Fees\"). In addition, the Company shall pay the advisor USD 100 per month to finance a workspace for the Advisor, as long as the Advisor actually hires a professional workspace (the “Workspace Expense”). Advisor will not be entitled to any additional fees or expense reimbursement whatsoever, except as expressly provided for in this Agreement.\\n\\nBillable Hour: Net time devoted to the provisioning of the Services, without calculating meals, travels or any other overhead time borne by the Advisor.\\n\\n6.2', metadata={'source': '../data/robinson/Robinson Advisory.pdf'}), Document(page_content='Whereas,\\n\\nAdvisor has agreed to provide the Company with such services, subject to the terms set forth in this Agreement.\\n\\nNOW THEREFORE THE PARTIES AGREE AS FOLLOWS:\\n\\n1. Services:\\n\\n1.1\\n\\nAdvisor shall provide to the Company, as an independent contractor, software development services, and / or any other services as agreed by the parties from time to time (the “Services”). Advisor shall not appoint any sub-agents or delegates in connection with performance of the Services, nor assign any of his obligations or rights hereunder without obtaining the prior written consent of the Company.\\n\\nWithout derogating from the foregoing, the Advisor shall not be required to provide the Services for a period of eighteen (18) days in each 12-month period.\\n\\n1.2', metadata={'source': '../data/robinson/Robinson Advisory.pdf'}), Document(page_content='6.4\\n\\nAdvisor shall be solely responsible for any income taxes or other assessments made or imposed to the Services rendered and the by any governmental authority on Advisor with respect compensation received hereunder, and any and all expenses and costs of himself, employees, agents and representatives, including, without limitation, any salary, overtime, severance or social benefits payable thereto, and marketing costs incurred in connection with the performance of obligations hereunder.\\n\\n7. Confidentiality, Non-Competition and IP Ownership Undertaking: In connection with the the Advisor shall execute a performance of Advisor’s obligations under Confidentiality, Non-Competition and IP Ownership Undertaking in the form attached hereto as Exhibit A. this Agreement,', metadata={'source': '../data/robinson/Robinson Advisory.pdf'}), Document(page_content=\"1.3\\n\\nAdvisor further agrees and undertakes to (i) comply with all the Company's policies, procedures and objectives, as in effect from time to time; (ii) adhere to any applicable law or provision, pertaining to his services; (iii) not take any action with the intention that the same will cause material damage to the good name of the Company; (iv) keep the contents of this Agreement confidential and not to disclose the existence or contents of this Agreement to any third party without the prior written consent of the Company.\\n\\n2. Time Tracking: Advisor shall provide the Company with a written report, in a format acceptable by the Company, setting forth the number of hours in which he provided the Services, on a daily basis, as well as an aggregated monthly report at the last day of each calendar month.\", metadata={'source': '../data/robinson/Robinson Advisory.pdf'})]\n"
     ]
    }
   ],
   "source": [
    "docs = retriever.get_relevant_documents(\"What are the payments to the Advisor under the Agreement?\")\n",
    "print(docs)"
   ]
  },
  {
   "cell_type": "markdown",
   "metadata": {},
   "source": [
    "## RAG Chain"
   ]
  },
  {
   "cell_type": "code",
   "execution_count": 9,
   "metadata": {},
   "outputs": [],
   "source": [
    "from langchain_community.chat_models import ChatOllama\n",
    "\n",
    "# Local LLM\n",
    "ollama_llm = \"mistral:instruct\"\n",
    "model_local = ChatOllama(model=ollama_llm)"
   ]
  },
  {
   "cell_type": "code",
   "execution_count": 11,
   "metadata": {},
   "outputs": [],
   "source": [
    "# loading the db\n",
    "vector_store = FAISS.load_local(\"../data/faiss_index\", embedding_function)\n",
    "retriever= vector_store.as_retriever(search_kwargs={\"k\": 5})"
   ]
  },
  {
   "cell_type": "markdown",
   "metadata": {},
   "source": [
    "## History Aware Retriever\n",
    "##### If there is no chat_history, then the input is just passed directly to the retriever. If there is chat_history, then the prompt and LLM will be used to generate a search query. That search query is then passed to the retriever."
   ]
  },
  {
   "cell_type": "code",
   "execution_count": 12,
   "metadata": {},
   "outputs": [],
   "source": [
    "from langchain_core.prompts import ChatPromptTemplate,MessagesPlaceholder\n",
    "from langchain.chains import create_history_aware_retriever, create_retrieval_chain\n",
    "from langchain.chains.combine_documents import create_stuff_documents_chain\n",
    "\n",
    "prompt = ChatPromptTemplate.from_messages([\n",
    "      MessagesPlaceholder(variable_name=\"chat_history\"),\n",
    "      (\"user\", \"{input}\"),\n",
    "      (\"user\", \"Given the above conversation, generate a search query to look up in order to get information relevant to the conversation\")\n",
    "    ])\n",
    "    \n",
    "retriever_chain = create_history_aware_retriever(model_local, retriever, prompt)"
   ]
  },
  {
   "cell_type": "code",
   "execution_count": 14,
   "metadata": {},
   "outputs": [],
   "source": [
    "prompt = ChatPromptTemplate.from_messages([\n",
    "      (\"system\", \"Answer the user's questions based on the below context:\\n\\n{context}\"),\n",
    "      MessagesPlaceholder(variable_name=\"chat_history\"),\n",
    "      (\"user\", \"{input}\"),\n",
    "    ])\n",
    "    \n",
    "stuff_documents_chain = create_stuff_documents_chain(model_local,prompt)\n",
    "    \n",
    "conversation_rag_chain = create_retrieval_chain(retriever_chain, stuff_documents_chain)"
   ]
  },
  {
   "cell_type": "code",
   "execution_count": 18,
   "metadata": {},
   "outputs": [
    {
     "data": {
      "text/plain": [
       "{'chat_history': [''],\n",
       " 'input': 'Who are the parties to the Agreement and what are their defined names?',\n",
       " 'context': [Document(page_content='IP: Any Work Product, upon creation, shall be fully and exclusively owned by the Company. The Advisor, immediately upon Company’s request, shall sign any document and/or perform any action needed to formalize such ownership. The Advisor shall not obtain any rights in the Work Product, including moral rights and/or rights for royalties or other consideration under any applicable law (including Section 134 of the Israeli Patent Law – 1967 if applicable), and shall not be entitled to any compensation with respect to the Services, which was not specifically agreed, in writing, between the Advisor and the Company.', metadata={'source': '../data/robinson/Robinson Advisory.pdf'}),\n",
       "  Document(page_content='1. Definitions: (a) Company’s Business: development of an AI-based contract assistant. (b) Services: Software development services and/or any other services provided by the Advisor to the Company. (c) Work Product: Any product of the Services, tangible and/or intangible, including any inventions, discoveries and/or other intellectual property. (d) Confidential Information: any information disclosed by the Company to the Advisor and/or created as a result of the Services (including Work Product), of any type, form (including orally) or media, including (without limitation), code, specifications, architecture, design, data, algorithms, business plans, budget, customers / suppliers lists etc.), but excluding information which prior to the disclosure was publicly available or known to the Advisor (both without breach of any confidentiality obligation towards the Company).', metadata={'source': '../data/robinson/Robinson Advisory.pdf'}),\n",
       "  Document(page_content='6.4\\n\\nAdvisor shall be solely responsible for any income taxes or other assessments made or imposed to the Services rendered and the by any governmental authority on Advisor with respect compensation received hereunder, and any and all expenses and costs of himself, employees, agents and representatives, including, without limitation, any salary, overtime, severance or social benefits payable thereto, and marketing costs incurred in connection with the performance of obligations hereunder.\\n\\n7. Confidentiality, Non-Competition and IP Ownership Undertaking: In connection with the the Advisor shall execute a performance of Advisor’s obligations under Confidentiality, Non-Competition and IP Ownership Undertaking in the form attached hereto as Exhibit A. this Agreement,', metadata={'source': '../data/robinson/Robinson Advisory.pdf'}),\n",
       "  Document(page_content='7. Third Parties: The Advisor represents that the performance of the Services and the terms of this Undertaking, do not and will not breach any right, contractual or other, of any employer, customer or other third party. Advisor acknowledges that the Company is relying upon the truthfulness and accuracy of such representations in engaging with the Advisor. Advisor specifically undertakes not to use any proprietary and/or confidential information belonging to the Advisor and/or any third party while performing the Services and in case any Advisor proprietary or confidential information is used, such information will be automatically assigned to the Company and become its full and exclusive property.\\n\\n8.', metadata={'source': '../data/robinson/Robinson Advisory.pdf'}),\n",
       "  Document(page_content='- 3-\\n\\nconstitute salary payments, and 40% of such payments shall constitute payment by the Company for all other Advisor statutory rights and benefits as employee of the Company throughout the Term. Advisor further consents that the Company may offset any amounts due to him under this Section from any amounts payable to Advisor under this Agreement. Advisor shall indemnify the Company for any loss or expenses incurred by the Company if it were determined that an alleged employer/employee relationship existed between the Advisor and the Company.', metadata={'source': '../data/robinson/Robinson Advisory.pdf'})],\n",
       " 'answer': ' The parties to the Agreement are the \"Company\" and the \"Advisor.\" The definitions section of the agreement (Section 6.4) provides that:\\n\\n* \"Company\" refers to \"the development company engaged in the Company’s Business\"\\n* \"Advisor\" refers to \"the individual or entity providing the Services to the Company\"\\n\\nThe \"Company\\'s Business\" is defined as \"development of an AI-based contract assistant.\" The \"Services\" are defined as \"Software development services and/or any other services provided by the Advisor to the Company.\" The \"Work Product\" is defined as \"Any product of the Services, tangible and/or intangible, including any inventions, discoveries and/or other intellectual property.\" And \"Confidential Information\" is defined as \"any information disclosed by the Company to the Advisor and/or created as a result of the Services (including Work Product), of any type, form (including orally) or media, including (without limitation), code, specifications, architecture, design, data, algorithms, business plans, budget, customers / suppliers lists etc.), but excluding information which prior to the disclosure was publicly available or known to the Advisor (both without breach of any confidentiality obligation towards the Company).\"'}"
      ]
     },
     "execution_count": 18,
     "metadata": {},
     "output_type": "execute_result"
    }
   ],
   "source": [
    "conversation_rag_chain.invoke({\n",
    "        \"chat_history\": [''],\n",
    "        \"input\": 'Who are the parties to the Agreement and what are their defined names?'\n",
    "    })"
   ]
  },
  {
   "cell_type": "markdown",
   "metadata": {},
   "source": [
    "## Normal Chain"
   ]
  },
  {
   "cell_type": "code",
   "execution_count": 45,
   "metadata": {},
   "outputs": [],
   "source": [
    "from langchain_core.prompts import ChatPromptTemplate\n",
    "from langchain_core.runnables import RunnablePassthrough\n",
    "from langchain_core.output_parsers import StrOutputParser\n",
    "\n",
    "\n",
    "# Prompt\n",
    "template = \"\"\"Answer the question (by giving reference to the context you used) based only on the following context:\n",
    "{context}\n",
    "\n",
    "Question: {question}\n",
    "\"\"\"\n",
    "prompt = ChatPromptTemplate.from_template(template)\n"
   ]
  },
  {
   "cell_type": "code",
   "execution_count": 46,
   "metadata": {},
   "outputs": [],
   "source": [
    "# Chain\n",
    "chain = (\n",
    "    {\"context\": retriever, \"question\": RunnablePassthrough()}\n",
    "    | prompt\n",
    "    | model_local\n",
    "    | StrOutputParser()\n",
    ")"
   ]
  },
  {
   "cell_type": "code",
   "execution_count": 51,
   "metadata": {},
   "outputs": [
    {
     "data": {
      "text/plain": [
       "' The parties to the Agreement are Cloud Investments Ltd., identified as \"the Company,\" and Mr. Jack Robinson, identified as \"Advisor.\" These definitions are provided in the context of the first document, specifically in the line \"This Advisory Services Agreement is entered into as of June 15th, 2023, by and between Cloud Investments Ltd., ID 51-426526-3, an Israeli company (the \"Company\"), and Mr. Jack Robinson, Passport Number 780055578, Israel, Email: jackrobinson@gmail.com (\"Advisor\").\"'"
      ]
     },
     "execution_count": 51,
     "metadata": {},
     "output_type": "execute_result"
    }
   ],
   "source": [
    "chain.invoke('Who are the parties to the Agreement and what are their defined names?')"
   ]
  },
  {
   "cell_type": "code",
   "execution_count": 52,
   "metadata": {},
   "outputs": [
    {
     "data": {
      "text/plain": [
       "' According to the context provided, either party can terminate this Agreement with fourteen (14) days’ prior written notice, as stated in sections 4 and 5 of the documents from the Robinson Advisory agreement. The Company may also terminate the Agreement immediately and without prior notice if Advisor refuses or is unable to perform the Services, or is in breach of any provision of this Agreement. (References: Document 1 page 2-4, Document 2 page 2-4)'"
      ]
     },
     "execution_count": 52,
     "metadata": {},
     "output_type": "execute_result"
    }
   ],
   "source": [
    "chain.invoke('What is the termination notice?')"
   ]
  },
  {
   "cell_type": "code",
   "execution_count": 47,
   "metadata": {},
   "outputs": [
    {
     "data": {
      "text/plain": [
       "\" The Advisor is entitled to hourly fees at a rate of USD 9 per Billable Hour, with a maximum limit of USD 1,500 per month, and an additional USD 100 per month for workspace expenses, as mentioned in Document 6.1 of the context. There are no other express provisions for additional fees or expense reimbursement. (Document 6.1, metadata={'source': '../data/robinson/Robinson Advisory.pdf'}). The Advisor is also responsible for any income taxes or assessments, expenses, and costs related to their services as mentioned in Document 6.4. (Document 6.4, metadata={'source': '../data/robinson/Robinson Advisory.pdf'})\""
      ]
     },
     "execution_count": 47,
     "metadata": {},
     "output_type": "execute_result"
    }
   ],
   "source": [
    "chain.invoke(\"What are the payments to the Advisor under the Agreement?\")"
   ]
  },
  {
   "cell_type": "code",
   "execution_count": 53,
   "metadata": {},
   "outputs": [
    {
     "data": {
      "text/plain": [
       "\" According to the provided context from the documents, the Agreement may only be assigned by the Company to a successor of all or substantially all of its assets or business, and the assignee must have assumed the Company's obligations under this Agreement. The Advisor may not assign the Agreement to anyone for any reason whatsoever. (Reference: Document 1, page_content under 'Entire Agreement; No Waiver or Assignment').\""
      ]
     },
     "execution_count": 53,
     "metadata": {},
     "output_type": "execute_result"
    }
   ],
   "source": [
    "chain.invoke('Can the Agreement or any of its obligations be assigned?')"
   ]
  },
  {
   "cell_type": "code",
   "execution_count": 54,
   "metadata": {},
   "outputs": [
    {
     "data": {
      "text/plain": [
       "' According to the context provided, the Company owns the IP (Intellectual Property) upon creation, and the Advisor is required to transfer ownership to the Company by signing any necessary documents and performing any required actions. The Advisor holds no rights in the Work Product, including moral rights or royalties, and is not entitled to any compensation for services not specifically agreed to in writing between the Advisor and the Company. (References: Document 0, page_content)'"
      ]
     },
     "execution_count": 54,
     "metadata": {},
     "output_type": "execute_result"
    }
   ],
   "source": [
    "chain.invoke('Who owns the IP?')"
   ]
  },
  {
   "cell_type": "code",
   "execution_count": 55,
   "metadata": {},
   "outputs": [
    {
     "data": {
      "text/plain": [
       "\" Yes, according to the context provided in Document 1, Section 5 of the agreement imposes a non-compete obligation on the Advisor during the term of engagement with the Company and for a period of 12 months after the engagement has ended. The Advisor is prohibited from being involved in any business that competes with the Company's Business, and from soliciting or hiring employees or service providers of the Company without prior written consent.\""
      ]
     },
     "execution_count": 55,
     "metadata": {},
     "output_type": "execute_result"
    }
   ],
   "source": [
    "chain.invoke('Is there a non-compete obligation to the Advisor?')"
   ]
  },
  {
   "cell_type": "code",
   "execution_count": 49,
   "metadata": {},
   "outputs": [
    {
     "data": {
      "text/plain": [
       "' Based on the provided context, the answer is no. The term \"Billable Hour\" refers to the net time devoted to providing the Services without calculating meals, travels, or any other overhead time borne by the Advisor (Documents 6.1 and 6.2). Therefore, meal time is not included in the billable hours for which the Advisor can charge.'"
      ]
     },
     "execution_count": 49,
     "metadata": {},
     "output_type": "execute_result"
    }
   ],
   "source": [
    "chain.invoke('Can the Advisor charge for meal time?')"
   ]
  },
  {
   "cell_type": "code",
   "execution_count": 48,
   "metadata": {},
   "outputs": [
    {
     "data": {
      "text/plain": [
       "' The Advisor lives on Rabin Street in Tel Aviv.'"
      ]
     },
     "execution_count": 48,
     "metadata": {},
     "output_type": "execute_result"
    }
   ],
   "source": [
    "chain.invoke('In which street does the Advisor live?')\n"
   ]
  },
  {
   "cell_type": "code",
   "execution_count": 50,
   "metadata": {},
   "outputs": [
    {
     "data": {
      "text/plain": [
       "' Based on the context provided in the given documents from the Robinson Advisory Agreement, the Advisor is not entitled to social benefits from the Company. The documents state that the sole relationship between the Company and the Advisor shall be that of independent contractors, and the Advisor shall not receive or be entitled to employment benefits such as insurance, paid vacation, or severance payments from the Company (Document 3).'"
      ]
     },
     "execution_count": 50,
     "metadata": {},
     "output_type": "execute_result"
    }
   ],
   "source": [
    "chain.invoke('Is the Advisor entitled to social benefits?')"
   ]
  },
  {
   "cell_type": "code",
   "execution_count": 56,
   "metadata": {},
   "outputs": [
    {
     "data": {
      "text/plain": [
       "\" According to the context provided, if it is adjudicated or determined by any governmental authority that the Advisor and/or anyone on Advisor's behalf is an employee of the Company, despite the parties' agreement stating they are independent contractors, then payments to the Advisor under the Agreement shall be reduced retroactively as of the beginning of the term so that 60% of such payments shall constitute salary payments, and the remaining 40% shall constitute payment for all other Advisor statutory rights and benefits (Document 1 and Document 2). Additionally, the Advisor is required to indemnify the Company for any loss or expenses incurred by the Company due to such determination (Document 1).\""
      ]
     },
     "execution_count": 56,
     "metadata": {},
     "output_type": "execute_result"
    }
   ],
   "source": [
    "chain.invoke('What happens if the Advisor claims compensation based on employment relationship with the Company?')"
   ]
  },
  {
   "cell_type": "code",
   "execution_count": null,
   "metadata": {},
   "outputs": [],
   "source": []
  }
 ],
 "metadata": {
  "kernelspec": {
   "display_name": "legal_contract_advisor",
   "language": "python",
   "name": "python3"
  },
  "language_info": {
   "codemirror_mode": {
    "name": "ipython",
    "version": 3
   },
   "file_extension": ".py",
   "mimetype": "text/x-python",
   "name": "python",
   "nbconvert_exporter": "python",
   "pygments_lexer": "ipython3",
   "version": "3.10.13"
  }
 },
 "nbformat": 4,
 "nbformat_minor": 2
}
