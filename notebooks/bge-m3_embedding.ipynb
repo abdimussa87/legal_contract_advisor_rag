{
 "cells": [
  {
   "cell_type": "code",
   "execution_count": 2,
   "metadata": {},
   "outputs": [
    {
     "name": "stderr",
     "output_type": "stream",
     "text": [
      "/Users/abdi/miniconda3/envs/legal_contract_advisor/lib/python3.10/site-packages/tqdm/auto.py:21: TqdmWarning: IProgress not found. Please update jupyter and ipywidgets. See https://ipywidgets.readthedocs.io/en/stable/user_install.html\n",
      "  from .autonotebook import tqdm as notebook_tqdm\n",
      "Fetching 22 files: 100%|██████████| 22/22 [00:00<00:00, 213598.81it/s]\n"
     ]
    },
    {
     "name": "stdout",
     "output_type": "stream",
     "text": [
      "loading existing colbert_linear and sparse_linear---------\n"
     ]
    }
   ],
   "source": [
    "from FlagEmbedding import BGEM3FlagModel\n",
    "\n",
    "model = BGEM3FlagModel('BAAI/bge-m3',  \n",
    "                       use_fp16=True) # Setting use_fp16 to True speeds up computation with a slight performance degradation\n",
    "\n",
    "# sentences_1 = [\"What is BGE M3?\", \"Defination of BM25\"]\n",
    "# sentences_2 = [\"BGE M3 is an embedding model supporting dense retrieval, lexical matching and multi-vector interaction.\", \n",
    "#                \"BM25 is a bag-of-words retrieval function that ranks a set of documents based on the query terms appearing in each document\"]\n",
    "\n",
    "# embeddings_1 = model.encode(sentences_1, \n",
    "#                             batch_size=12, \n",
    "#                             max_length=8192, # If you don't need such a long length, you can set a smaller value to speed up the encoding process.\n",
    "#                             )['dense_vecs']\n",
    "# embeddings_2 = model.encode(sentences_2)['dense_vecs']\n",
    "# similarity = embeddings_1 @ embeddings_2.T\n",
    "# print(similarity)\n",
    "# [[0.6265, 0.3477], [0.3499, 0.678 ]]\n"
   ]
  },
  {
   "cell_type": "code",
   "execution_count": 3,
   "metadata": {},
   "outputs": [],
   "source": [
    "from langchain_community.document_loaders import PyPDFLoader\n",
    "from langchain.text_splitter import RecursiveCharacterTextSplitter\n",
    "\n",
    "loader = PyPDFLoader(\"../data/Robinson Advisory.pdf\")\n",
    "pages = loader.load()\n",
    "for page in pages:\n",
    "    # just change the page_content to remove the newlines inserted instead of spaces\n",
    "    page.page_content = page.page_content.replace('\\n', ' ')\n",
    "text_splitter = RecursiveCharacterTextSplitter(chunk_size=1000, chunk_overlap=200)\n",
    "chunks = text_splitter.split_documents(pages)"
   ]
  },
  {
   "cell_type": "code",
   "execution_count": 4,
   "metadata": {},
   "outputs": [],
   "source": [
    "from langchain.embeddings import HuggingFaceBgeEmbeddings\n",
    "\n",
    "model_name = \"BAAI/bge-m3\"\n",
    "encode_kwargs = {'normalize_embeddings': True} # set True to compute cosine similarity\n",
    "\n",
    "embedding_function = HuggingFaceBgeEmbeddings(\n",
    "    model_name=model_name,\n",
    "    # model_kwargs={'device': 'cuda'},\n",
    "    encode_kwargs=encode_kwargs\n",
    ")"
   ]
  },
  {
   "cell_type": "code",
   "execution_count": 6,
   "metadata": {},
   "outputs": [],
   "source": [
    "# storing the chunks in a vector store\n",
    "from langchain_community.vectorstores.faiss import FAISS\n",
    "\n",
    "# FAISS.from_documents(pages, model)\n",
    "# save to disk\n",
    "db = FAISS.from_documents(chunks, embedding_function)\n",
    "db.save_local(\"../data/faiss_index\")\n"
   ]
  },
  {
   "cell_type": "code",
   "execution_count": 7,
   "metadata": {},
   "outputs": [
    {
     "name": "stdout",
     "output_type": "stream",
     "text": [
      "[Document(page_content='- 3 - constitute salary payments, and 40% of such payments shall constitute payment by the Company for  all other Advisor statutory rights and benefits as employee of the Company throughout the Term.  Advisor further consents that the Company may offset any amounts due to him under this Section  from any amounts payable to Advisor under this Agreement. Advisor shall indemnify the Company  for any loss or expenses incurred by the Company if it were determined that an alleged  employer/employee relationship existed between the Advisor and the Company . 9. Entir e Agreement; No Waiver or Assignment : This Agreement together with the Exhibits, which  are attached hereto and incorporated herein, set forth the entire Agreement between the parties and  shall supersede all previous communications and agreements between the parties, either oral or  written. This Agreement may be modified only by a written amendment executed by both parties.  This Agreement may not be assigned, sold, delegated', metadata={'source': '../data/Robinson Advisory.pdf', 'page': 2}), Document(page_content='ADVISOR Y SER VICES AGREEMENT This Advisory Services Agreement is entered into as of June 15 th , 2023 (the “ Effective Date ”), by and  between Cloud Investments Ltd., ID 51-426526-3, an Israeli company (the \" Company \"), and Mr. Jack  Robinson, Passport Number 780055578, residing at 1 Rabin st, Tel Aviv, Israel, Email:  jackrobinson@gmail.com (\" Advisor \"). Whereas, Advisor has expertise and/or knowledge and/or relationships, which are relevant to the  Company’ s business and the Company has asked Advisor to provide it with certain Advisory  services, as described in this Agreement; and Whereas, Advisor has agreed to provide the Company with such services, subject to the terms set forth  in this Agreement. NOW THEREFORE THE PARTIES AGREE AS FOLLOWS: 1. Services: 1.1 Advisor shall provide to the Company , as an independent contractor , software development  services, and / or any other services as agreed by the parties from time to time (the “ Services ”).  Advisor shall not appoint', metadata={'source': '../data/Robinson Advisory.pdf', 'page': 0})]\n"
     ]
    }
   ],
   "source": [
    "docs = db.similarity_search(\"Who are the parties to the Agreement and what are their defined names?\", k=2)\n",
    "print(docs)"
   ]
  },
  {
   "cell_type": "code",
   "execution_count": 8,
   "metadata": {},
   "outputs": [],
   "source": [
    "from langchain_community.chat_models import ChatOllama\n",
    "\n",
    "local_llm = 'mistral:instruct'\n",
    "llm = ChatOllama(model=local_llm, temperature=0)"
   ]
  },
  {
   "cell_type": "code",
   "execution_count": 9,
   "metadata": {},
   "outputs": [],
   "source": [
    "from langchain.prompts import PromptTemplate\n",
    "# Create a prompt template with format instructions and the query\n",
    "prompt = PromptTemplate(\n",
    "    template=\"\"\"Act as a legal contract answering expert. You will be presented with a legal contract as context and a question related to that contract. Your task is to provide a succinct answer to the question based on the content of the contract. Make sure you reply with \"I don't know\" if the answer cannot be found in the context.\n",
    "        ### CONTEXT\n",
    "        {context}\n",
    "\n",
    "        ### Question\n",
    "        Question: {question}\"\"\",\n",
    "    input_variables=['context',\"question\"],\n",
    ")\n"
   ]
  },
  {
   "cell_type": "code",
   "execution_count": 10,
   "metadata": {},
   "outputs": [],
   "source": [
    "# from langchain_core.output_parsers import StrOutputParser\n",
    "from langchain.chains.question_answering import load_qa_chain\n",
    "chain = load_qa_chain(llm, chain_type=\"stuff\", prompt=prompt)"
   ]
  },
  {
   "cell_type": "code",
   "execution_count": 18,
   "metadata": {},
   "outputs": [],
   "source": [
    "# loading the db\n",
    "new_db = FAISS.load_local(\"../data/faiss_index\", embedding_function)"
   ]
  },
  {
   "cell_type": "code",
   "execution_count": 19,
   "metadata": {},
   "outputs": [
    {
     "data": {
      "text/plain": [
       "{'question': 'Is there a non-compete obligation to the Advisor?',\n",
       " 'input_documents': [Document(page_content='for royalties or other consideration under any applicable law (including Section 134  of the Israeli Patent Law – 1967 if applicable), and shall not be entitled to any compensation with respect to the Services, which was not  specifically agreed, in writing, between the Advisor and the Company . 5. Non-Compete : During the term of engagement with the Company and for a period of 12 months thereafter , Advisor shall not be involved,  as an employee, owner , contractor or otherwise, in any business, which competes with the Company’ s Business, and shall not solicit and/or  hire any employee and/or service provider of the Company , without the prior written consent of the Company . 6. Personnel: The Advisor may provide the Services only directly or through employees, contractors or agents (“Personnel”), which were  specifically approved by the Company , and have committed in writing to confidentiality and ownership rights towards the Advisor and/or  the Company , in a form restrictive', metadata={'source': '../data/Robinson Advisory.pdf', 'page': 3}),\n",
       "  Document(page_content='received hereunder , and any and all expenses and costs of himself, employees,  agents and representatives, including, without limitation, any salary , overtime, severance or  social benefits payable thereto, and marketing costs incurred in connection with the performance  of obligations hereunder . 7. Confidentiality , Non-Competition and IP Ownership Undertaking : In connection with the  performance of Advisor ’s obligations under this Agreement, the Advisor shall execute a  Confidentiality , Non-Competition and IP Ownership Undertaking in the form attached hereto as  Exhibit A . 8. Relationship of the Parties; Indemnification : The sole relationship between the Company and the  Advisor shall be that of independent contractors. Advisor shall not be deemed to be, nor treated by the  Company as, an employee of the Company . Advisor shall not receive nor be entitled to overtime pay,  insurance, paid vacation, severance payments or similar fringe or employment benefits from the  Company', metadata={'source': '../data/Robinson Advisory.pdf', 'page': 1})],\n",
       " 'output_text': \" Yes, according to clause 5 of the contract, the Advisor is obligated not to be involved in any business that competes with the Company's Business during the term of engagement and for a period of 12 months thereafter.\"}"
      ]
     },
     "execution_count": 19,
     "metadata": {},
     "output_type": "execute_result"
    }
   ],
   "source": [
    "question = 'Is there a non-compete obligation to the Advisor?'\n",
    "docs = new_db.similarity_search(question, k=2)\n",
    "chain.invoke({'question': question,'input_documents':docs})"
   ]
  },
  {
   "cell_type": "code",
   "execution_count": 17,
   "metadata": {},
   "outputs": [
    {
     "data": {
      "text/plain": [
       "{'question': 'Can the Advisor charge for meal time according to section 6.1?',\n",
       " 'input_documents': [Document(page_content='a rate of USD 9 (nine) per Billable Hour as defined below , limited to a maximum  of USD 1,500 per month (the \" Fees \"). In addition, the Company shall pay the advisor USD 100  per month to finance a workspace for the Advisor , as long as the Advisor actually hires a  professional workspace (the “ Workspace Expense ”). Advisor will not be entitled to any  additional fees or expense reimbursement whatsoever , except as expressly provided for in this  Agreement. Billable Hour: Net time devoted to the provisioning of the Services, without calculating meals,  travels or any other overhead time borne by the Advisor . 6.2 The Fees and the Workspace Expense for each month shall be payable by no later than ten (10)  days from the beginning of the following month, against receipt by the Company of a duly issued  tax invoice. 6.3 In addition, the Company shall reimburse Advisor for any reasonable and actual expenses  incurred by the Advisor in connection with the performance of the Services,', metadata={'source': '../data/Robinson Advisory.pdf', 'page': 1}),\n",
       "  Document(page_content=\"of a duly issued  tax invoice. 6.3 In addition, the Company shall reimburse Advisor for any reasonable and actual expenses  incurred by the Advisor in connection with the performance of the Services, all in accordance  with the Company’ s policies as determined by the Board of Directors from time to time, and  subject to Company's prior written consent for each specific expense, before Advisor incurs such  expenses. As a condition to reimbursement, Advisor shall provide the Company with copies of  all invoices, receipts and other evidence of expenditures as required by Company policy . 6.4 Advisor shall be solely responsible for any income taxes or other assessments made or imposed  by any governmental authority on Advisor with respect to the Services rendered and the  compensation received hereunder , and any and all expenses and costs of himself, employees,  agents and representatives, including, without limitation, any salary , overtime, severance or  social benefits payable\", metadata={'source': '../data/Robinson Advisory.pdf', 'page': 1})],\n",
       " 'output_text': ' I don\\'t know. Section 6.1 of the contract defines \"Billable Hour\" as net time devoted to the provisioning of the Services, without calculating meals or any other overhead time borne by the Advisor. It does not mention anything about meal time being included in the Fees.'}"
      ]
     },
     "execution_count": 17,
     "metadata": {},
     "output_type": "execute_result"
    }
   ],
   "source": [
    "question = 'Can the Advisor charge for meal time according to section 6.1?'\n",
    "docs = new_db.similarity_search(question, k=2)\n",
    "chain.invoke({'question': question,'input_documents':docs})"
   ]
  },
  {
   "cell_type": "code",
   "execution_count": 20,
   "metadata": {},
   "outputs": [
    {
     "data": {
      "text/plain": [
       "{'question': 'What happens if the Advisor claims compensation based on employment relationship with the Company?',\n",
       " 'input_documents': [Document(page_content=\"as, an employee of the Company . Advisor shall not receive nor be entitled to overtime pay,  insurance, paid vacation, severance payments or similar fringe or employment benefits from the  Company . Without derogating from the above, if it is adjudicated or otherwise determined by any  governmental authority that the Advisor and/or anyone on Advisor's behalf, is, regardless of the terms  of this Agreement, an employee of the Company , then payments to Advisor hereunder shall be  reduced effective retroactively as of the beginning of the Term so that 60% of such payments shall\", metadata={'source': '../data/Robinson Advisory.pdf', 'page': 1}),\n",
       "  Document(page_content='- 3 - constitute salary payments, and 40% of such payments shall constitute payment by the Company for  all other Advisor statutory rights and benefits as employee of the Company throughout the Term.  Advisor further consents that the Company may offset any amounts due to him under this Section  from any amounts payable to Advisor under this Agreement. Advisor shall indemnify the Company  for any loss or expenses incurred by the Company if it were determined that an alleged  employer/employee relationship existed between the Advisor and the Company . 9. Entir e Agreement; No Waiver or Assignment : This Agreement together with the Exhibits, which  are attached hereto and incorporated herein, set forth the entire Agreement between the parties and  shall supersede all previous communications and agreements between the parties, either oral or  written. This Agreement may be modified only by a written amendment executed by both parties.  This Agreement may not be assigned, sold, delegated', metadata={'source': '../data/Robinson Advisory.pdf', 'page': 2})],\n",
       " 'output_text': ' Based on the context of the contract, if the Advisor claims compensation based on an employment relationship with the Company, it is provided in the contract that such payments to the Advisor shall be reduced effective retroactively so that 60% of such payments shall constitute salary payments, and 40% of such payments shall constitute payment by the Company for all other Advisor statutory rights and benefits as an employee of the Company throughout the Term. The Advisor is also required to indemnify the Company for any loss or expenses incurred by the Company if it is determined that an alleged employer/employee relationship existed between the Advisor and the Company.'}"
      ]
     },
     "execution_count": 20,
     "metadata": {},
     "output_type": "execute_result"
    }
   ],
   "source": [
    "question = 'What happens if the Advisor claims compensation based on employment relationship with the Company?'\n",
    "docs = new_db.similarity_search(question, k=2)\n",
    "chain.invoke({'question': question,'input_documents':docs})"
   ]
  },
  {
   "cell_type": "code",
   "execution_count": null,
   "metadata": {},
   "outputs": [],
   "source": []
  }
 ],
 "metadata": {
  "kernelspec": {
   "display_name": "legal_contract_advisor",
   "language": "python",
   "name": "python3"
  },
  "language_info": {
   "codemirror_mode": {
    "name": "ipython",
    "version": 3
   },
   "file_extension": ".py",
   "mimetype": "text/x-python",
   "name": "python",
   "nbconvert_exporter": "python",
   "pygments_lexer": "ipython3",
   "version": "3.10.13"
  }
 },
 "nbformat": 4,
 "nbformat_minor": 2
}
