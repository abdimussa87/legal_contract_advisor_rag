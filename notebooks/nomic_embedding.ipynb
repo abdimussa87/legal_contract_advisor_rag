{
 "cells": [
  {
   "cell_type": "code",
   "execution_count": null,
   "metadata": {},
   "outputs": [],
   "source": [
    "%pip install -U langchain-nomic langchain_community tiktoken langchain-openai chromadb langchain"
   ]
  },
  {
   "cell_type": "code",
   "execution_count": 123,
   "metadata": {},
   "outputs": [
    {
     "name": "stdout",
     "output_type": "stream",
     "text": [
      "zsh:1: parse error near `>>'\n"
     ]
    }
   ],
   "source": [
    "! nomic login <<token>>"
   ]
  },
  {
   "cell_type": "code",
   "execution_count": 124,
   "metadata": {},
   "outputs": [],
   "source": [
    "# Optional: LangSmith API keys\n",
    "import os\n",
    "from dotenv import load_dotenv\n",
    "\n",
    "load_dotenv(override=True)\n",
    "\n",
    "os.environ[\"LANGCHAIN_TRACING_V2\"] = \"true\"\n",
    "os.environ[\"LANGCHAIN_ENDPOINT\"] = \"https://api.smith.langchain.com\""
   ]
  },
  {
   "cell_type": "markdown",
   "metadata": {},
   "source": [
    "## Document Loading"
   ]
  },
  {
   "cell_type": "code",
   "execution_count": 125,
   "metadata": {},
   "outputs": [],
   "source": [
    "# useful for printing the documents beautifully\n",
    "def pretty_print_docs(docs):\n",
    "    print(\n",
    "        f\"\\n{'-' * 100}\\n\".join(\n",
    "            [f\"Document {i+1}:\\n\\n\" + d.page_content for i, d in enumerate(docs)]\n",
    "        )\n",
    "    )"
   ]
  },
  {
   "cell_type": "code",
   "execution_count": 7,
   "metadata": {},
   "outputs": [],
   "source": [
    "# from langchain_community.document_loaders import PyPDFLoader\n",
    "# from langchain.text_splitter import RecursiveCharacterTextSplitter\n",
    "\n",
    "# loader = PyPDFLoader(\"../data/Robinson Advisory.pdf\")\n",
    "# pages = loader.load()\n",
    "# for page in pages:\n",
    "#     # just change the page_content to remove the newlines inserted instead of spaces\n",
    "#     page.page_content = page.page_content.replace('\\n', ' ')"
   ]
  },
  {
   "cell_type": "code",
   "execution_count": null,
   "metadata": {},
   "outputs": [],
   "source": [
    "%pip uninstall llama-index-vector-stores-chroma -y"
   ]
  },
  {
   "cell_type": "code",
   "execution_count": null,
   "metadata": {},
   "outputs": [],
   "source": [
    "%pip install unstructured\n",
    "%pip install \"unstructured[pdf]\""
   ]
  },
  {
   "cell_type": "code",
   "execution_count": 126,
   "metadata": {},
   "outputs": [
    {
     "name": "stderr",
     "output_type": "stream",
     "text": [
      "100%|██████████| 1/1 [00:00<00:00,  3.26it/s]\n"
     ]
    }
   ],
   "source": [
    "from langchain_community.document_loaders import DirectoryLoader\n",
    "loader = DirectoryLoader('../data/robinson', show_progress=True)\n",
    "documents = loader.load()"
   ]
  },
  {
   "cell_type": "code",
   "execution_count": 127,
   "metadata": {},
   "outputs": [
    {
     "name": "stdout",
     "output_type": "stream",
     "text": [
      "Document 1:\n",
      "\n",
      "ADVISORY SERVICES AGREEMENT\n",
      "\n",
      "This Advisory Services Agreement is entered into as of June 15th, 2023 (the “Effective Date”), by and between Cloud Investments Ltd., ID 51-426526-3, an Israeli company (the \"Company\"), and Mr. Jack Robinson, Passport Number 780055578, Israel, Email: jackrobinson@gmail.com (\"Advisor\").\n",
      "\n",
      "residing\n",
      "\n",
      "at 1 Rabin st, Tel Aviv,\n",
      "\n",
      "Whereas,\n",
      "\n",
      "Advisor has expertise and/or knowledge and/or relationships, which are relevant to the Company’s business and the Company has asked Advisor to provide it with certain Advisory services, as described in this Agreement; and\n",
      "\n",
      "Whereas,\n",
      "\n",
      "Advisor has agreed to provide the Company with such services, subject to the terms set forth in this Agreement.\n",
      "\n",
      "NOW THEREFORE THE PARTIES AGREE AS FOLLOWS:\n",
      "\n",
      "1. Services:\n",
      "\n",
      "1.1\n",
      "\n",
      "Advisor shall provide to the Company, as an independent contractor, software development services, and / or any other services as agreed by the parties from time to time (the “Services”). Advisor shall not appoint any sub-agents or delegates in connection with performance of the Services, nor assign any of his obligations or rights hereunder without obtaining the prior written consent of the Company.\n",
      "\n",
      "Without derogating from the foregoing, the Advisor shall not be required to provide the Services for a period of eighteen (18) days in each 12-month period.\n",
      "\n",
      "1.2\n",
      "\n",
      "talent, In performing the Services, Advisor shall devote his time, know-how, expertise, experience and best efforts and attention to the provision of the Services, as shall be reasonably required by the Company. Advisor shall render the Services in a diligent manner and at a high professional standard for the benefit of the Company and shall perform and discharge well and faithfully, with devotion, honesty and fidelity, his obligations hereunder.\n",
      "\n",
      "1.3\n",
      "\n",
      "Advisor further agrees and undertakes to (i) comply with all the Company's policies, procedures and objectives, as in effect from time to time; (ii) adhere to any applicable law or provision, pertaining to his services; (iii) not take any action with the intention that the same will cause material damage to the good name of the Company; (iv) keep the contents of this Agreement confidential and not to disclose the existence or contents of this Agreement to any third party without the prior written consent of the Company.\n",
      "\n",
      "2. Time Tracking: Advisor shall provide the Company with a written report, in a format acceptable by the Company, setting forth the number of hours in which he provided the Services, on a daily basis, as well as an aggregated monthly report at the last day of each calendar month.\n",
      "\n",
      "3. No Conflicts: Advisor represents that there is no contractual or other legal restriction preventing or limiting him/her from entering into this Agreement or performing any of his/her obligations hereunder. Advisor shall immediately and without delay inform the Company of any affairs and/or matters that might constitute a conflict of interest with his/her services to Company and/or the interests of the Company. Advisor agrees to indemnify, defend and hold harmless the Company and its directors, officers and employees against all claims, liabilities, and costs, including reasonable attorneys' fees in connection with any breach by Advisor, of any obligations pursuant to a prior or existing engagement with any other third party, including without limitation other employers or clients.\n",
      "\n",
      "- 2-\n",
      "\n",
      "4. Term: The term of this Agreement shall commence on the Effective Date and shall continue until terminated in accordance with the provisions herein (the \"Term\").\n",
      "\n",
      "5. Termination: Either party, at any given time, may terminate this Agreement, for any reason whatsoever, with or without cause, upon fourteen (14) days’ prior written notice. Notwithstanding the above, the Company may terminate this Agreement immediately and without prior notice if Advisor refuses or is unable to perform the Services, or is in breach of any provision of this Agreement.\n",
      "\n",
      "6. Compensation:\n",
      "\n",
      "6.1\n",
      "\n",
      "As full and sole consideration for the Services, and subject to the performance of the Services, the Company shall pay the Advisor, against an invoice provided to the Company by Advisor, hourly fees at a rate of USD 9 (nine) per Billable Hour as defined below, limited to a maximum of USD 1,500 per month (the \"Fees\"). In addition, the Company shall pay the advisor USD 100 per month to finance a workspace for the Advisor, as long as the Advisor actually hires a professional workspace (the “Workspace Expense”). Advisor will not be entitled to any additional fees or expense reimbursement whatsoever, except as expressly provided for in this Agreement.\n",
      "\n",
      "Billable Hour: Net time devoted to the provisioning of the Services, without calculating meals, travels or any other overhead time borne by the Advisor.\n",
      "\n",
      "6.2\n",
      "\n",
      "The Fees and the Workspace Expense for each month shall be payable by no later than ten (10) days from the beginning of the following month, against receipt by the Company of a duly issued tax invoice.\n",
      "\n",
      "6.3\n",
      "\n",
      "the Company shall reimburse Advisor for any reasonable and actual expenses In addition, incurred by the Advisor in connection with the performance of the Services, all in accordance with the Company’s policies as determined by the Board of Directors from time to time, and subject to Company's prior written consent for each specific expense, before Advisor incurs such expenses. As a condition to reimbursement, Advisor shall provide the Company with copies of all invoices, receipts and other evidence of expenditures as required by Company policy.\n",
      "\n",
      "6.4\n",
      "\n",
      "Advisor shall be solely responsible for any income taxes or other assessments made or imposed to the Services rendered and the by any governmental authority on Advisor with respect compensation received hereunder, and any and all expenses and costs of himself, employees, agents and representatives, including, without limitation, any salary, overtime, severance or social benefits payable thereto, and marketing costs incurred in connection with the performance of obligations hereunder.\n",
      "\n",
      "7. Confidentiality, Non-Competition and IP Ownership Undertaking: In connection with the the Advisor shall execute a performance of Advisor’s obligations under Confidentiality, Non-Competition and IP Ownership Undertaking in the form attached hereto as Exhibit A. this Agreement,\n",
      "\n",
      "8. Relationship of the Parties; Indemnification: The sole relationship between the Company and the Advisor shall be that of independent contractors. Advisor shall not be deemed to be, nor treated by the Company as, an employee of the Company. Advisor shall not receive nor be entitled to overtime pay, insurance, paid vacation, severance payments or similar fringe or employment benefits from the Company. Without derogating from the above, if it is adjudicated or otherwise determined by any governmental authority that the Advisor and/or anyone on Advisor's behalf, is, regardless of the terms of this Agreement, an employee of the Company, then payments to Advisor hereunder shall be reduced effective retroactively as of the beginning of the Term so that 60% of such payments shall\n",
      "\n",
      "- 3-\n",
      "\n",
      "constitute salary payments, and 40% of such payments shall constitute payment by the Company for all other Advisor statutory rights and benefits as employee of the Company throughout the Term. Advisor further consents that the Company may offset any amounts due to him under this Section from any amounts payable to Advisor under this Agreement. Advisor shall indemnify the Company for any loss or expenses incurred by the Company if it were determined that an alleged employer/employee relationship existed between the Advisor and the Company.\n",
      "\n",
      "9. Entire Agreement; No Waiver or Assignment: This Agreement together with the Exhibits, which are attached hereto and incorporated herein, set forth the entire Agreement between the parties and shall supersede all previous communications and agreements between the parties, either oral or written. This Agreement may be modified only by a written amendment executed by both parties. This Agreement may not be assigned, sold, delegated or transferred in any manner by Advisor for any reason whatsoever. The Company may assign the Agreement to a successor of all or substantially all of its assets or business, provided the assignee has assumed the Company’s obligations under this Agreement.\n",
      "\n",
      "10. Governing Law and Jurisdiction: This Agreement shall be governed by the laws of the State of Israel, without giving effect to the rules respecting conflicts of laws. The parties consent to the exclusive jurisdiction and venue of Tel Aviv courts for any lawsuit filed arising from or relating to this Agreement.\n",
      "\n",
      "11. Notices: Notices under this Agreement shall be delivered to the party’s email address as follows: Company: info@cloudcorp.com, Advisor: jackrobinson@gmail.com, or in any the other means with a proof of acceptance by the other party.\n",
      "\n",
      "IN WITNESS WHEREOF the parties have executed this Agreement as of the date first above written.\n",
      "\n",
      "Cloud Investments Ltd.\n",
      "\n",
      "Advisor\n",
      "\n",
      "By: ________________________\n",
      "\n",
      "By:________________________\n",
      "\n",
      "Name: Silvan Joseph\n",
      "\n",
      "Name: Jack Robinson\n",
      "\n",
      "Title: CEO\n",
      "\n",
      "- 4-\n",
      "\n",
      "Confidentiality, None Compete and IP Ownership Undertaking Appendix A to Advisory Service Agreement as of June 15th, 2023\n",
      "\n",
      "THIS CONFIDENTIALITY UNDERTAKING (“Undertaking”) is entered into as of June 15th, 2023 (“Effective Date”), by Mr. Jack Robinson, Passport Number 780055578, residing at 1 Rabin st, Tel Aviv, Israel, Email: jackrobinson@gmail.com, (“Advisor”), towards Cloud Investments Ltd (“Company”), as follows:\n",
      "\n",
      "1. Definitions: (a) Company’s Business: development of an AI-based contract assistant. (b) Services: Software development services and/or any other services provided by the Advisor to the Company. (c) Work Product: Any product of the Services, tangible and/or intangible, including any inventions, discoveries and/or other intellectual property. (d) Confidential Information: any information disclosed by the Company to the Advisor and/or created as a result of the Services (including Work Product), of any type, form (including orally) or media, including (without limitation), code, specifications, architecture, design, data, algorithms, business plans, budget, customers / suppliers lists etc.), but excluding information which prior to the disclosure was publicly available or known to the Advisor (both without breach of any confidentiality obligation towards the Company).\n",
      "\n",
      "2. Use: The Advisor may use the Confidential Information only for the purpose of providing the Services and shall not obtain any rights in it. The Advisor shall stop using Confidential Information and/or return it to the Company and/or destroy it immediately upon Company’s request. The Advisor may disclose Confidential Information in case this is required by law, but only to the extent required and after providing the Company a prompt written notice and subject to promptly cooperate with the Company in seeking a protective order. Safeguard: The Advisor shall safeguard the Confidential Information, keep it in strict confidence and shall not disclose it to any third party without the prior written consent of the Company.\n",
      "\n",
      "2. Use: The Advisor may use the Confidential Information only for the purpose of providing the Services and shall not obtain any rights in it. The Advisor shall stop using Confidential Information and/or return it to the Company and/or destroy it immediately upon Company’s request. The Advisor may disclose Confidential Information in case this is required by law, but only to the extent required and after providing the Company a prompt written notice and subject to promptly cooperate with the Company in seeking a protective order. Safeguard: The Advisor shall safeguard the Confidential Information, keep it in strict confidence and shall not disclose it to any third party without the prior written consent of the Company.\n",
      "\n",
      "IP: Any Work Product, upon creation, shall be fully and exclusively owned by the Company. The Advisor, immediately upon Company’s request, shall sign any document and/or perform any action needed to formalize such ownership. The Advisor shall not obtain any rights in the Work Product, including moral rights and/or rights for royalties or other consideration under any applicable law (including Section 134 of the Israeli Patent Law – 1967 if applicable), and shall not be entitled to any compensation with respect to the Services, which was not specifically agreed, in writing, between the Advisor and the Company.\n",
      "\n",
      "5. Non-Compete: During the term of engagement with the Company and for a period of 12 months thereafter, Advisor shall not be involved, as an employee, owner, contractor or otherwise, in any business, which competes with the Company’s Business, and shall not solicit and/or hire any employee and/or service provider of the Company, without the prior written consent of the Company.\n",
      "\n",
      "6.\n",
      "\n",
      "Personnel: The Advisor may provide the Services only directly or through employees, contractors or agents (“Personnel”), which were specifically approved by the Company, and have committed in writing to confidentiality and ownership rights towards the Advisor and/or the Company, in a form restrictive enough to allow Advisor to comply and enforce the commitments under this undertaking (“Authorized Personnel”). Without limiting the foregoing, the Advisor is liable hereunder for any breach of this undertaking by any Advisor Personnel.\n",
      "\n",
      "7. Third Parties: The Advisor represents that the performance of the Services and the terms of this Undertaking, do not and will not breach any right, contractual or other, of any employer, customer or other third party. Advisor acknowledges that the Company is relying upon the truthfulness and accuracy of such representations in engaging with the Advisor. Advisor specifically undertakes not to use any proprietary and/or confidential information belonging to the Advisor and/or any third party while performing the Services and in case any Advisor proprietary or confidential information is used, such information will be automatically assigned to the Company and become its full and exclusive property.\n",
      "\n",
      "8.\n",
      "\n",
      "Jurisdiction: This Undertaking shall be governed by and construed in accordance with the laws of the State of Israel, without giving effect to its laws pertaining to conflict of laws. The Advisor agrees that any and all disputes in connection with this Undertaking shall be submitted to the exclusive jurisdiction of the competent courts in the city of Tel Aviv-Yafo, Israel.\n",
      "\n",
      "9.\n",
      "\n",
      "Pre-Undertaking: In case the Advisor has been providing Services to the Company before the Effective Date (“Pre-Undertaking Period”), this Undertaking shall also apply to the Pre-Undertaking Period, including, if relevant, before Company’s incorporation. The Company may assign this undertaking to third parties.\n",
      "\n",
      "IN WITNESS WHEREOF, the undersigned has executed this Undertaking as of the Effective Date.\n",
      "\n",
      "Advisor\n",
      "\n",
      "By: _____________________________________\n",
      "\n",
      "Name: Jack Robinson\n"
     ]
    }
   ],
   "source": [
    "pretty_print_docs(documents)"
   ]
  },
  {
   "cell_type": "markdown",
   "metadata": {},
   "source": [
    "## Splitting"
   ]
  },
  {
   "cell_type": "code",
   "execution_count": null,
   "metadata": {},
   "outputs": [],
   "source": [
    "%pip install langchain_text_splitters"
   ]
  },
  {
   "cell_type": "code",
   "execution_count": 128,
   "metadata": {},
   "outputs": [
    {
     "name": "stdout",
     "output_type": "stream",
     "text": [
      "20\n"
     ]
    },
    {
     "data": {
      "text/plain": [
       "[Document(page_content='ADVISORY SERVICES AGREEMENT\\n\\nThis Advisory Services Agreement is entered into as of June 15th, 2023 (the “Effective Date”), by and between Cloud Investments Ltd., ID 51-426526-3, an Israeli company (the \"Company\"), and Mr. Jack Robinson, Passport Number 780055578, Israel, Email: jackrobinson@gmail.com (\"Advisor\").\\n\\nresiding\\n\\nat 1 Rabin st, Tel Aviv,\\n\\nWhereas,\\n\\nAdvisor has expertise and/or knowledge and/or relationships, which are relevant to the Company’s business and the Company has asked Advisor to provide it with certain Advisory services, as described in this Agreement; and\\n\\nWhereas,\\n\\nAdvisor has agreed to provide the Company with such services, subject to the terms set forth in this Agreement.\\n\\nNOW THEREFORE THE PARTIES AGREE AS FOLLOWS:\\n\\n1. Services:\\n\\n1.1', metadata={'source': '../data/robinson/Robinson Advisory.pdf'}),\n",
       " Document(page_content='Whereas,\\n\\nAdvisor has agreed to provide the Company with such services, subject to the terms set forth in this Agreement.\\n\\nNOW THEREFORE THE PARTIES AGREE AS FOLLOWS:\\n\\n1. Services:\\n\\n1.1\\n\\nAdvisor shall provide to the Company, as an independent contractor, software development services, and / or any other services as agreed by the parties from time to time (the “Services”). Advisor shall not appoint any sub-agents or delegates in connection with performance of the Services, nor assign any of his obligations or rights hereunder without obtaining the prior written consent of the Company.\\n\\nWithout derogating from the foregoing, the Advisor shall not be required to provide the Services for a period of eighteen (18) days in each 12-month period.\\n\\n1.2', metadata={'source': '../data/robinson/Robinson Advisory.pdf'}),\n",
       " Document(page_content='Without derogating from the foregoing, the Advisor shall not be required to provide the Services for a period of eighteen (18) days in each 12-month period.\\n\\n1.2\\n\\ntalent, In performing the Services, Advisor shall devote his time, know-how, expertise, experience and best efforts and attention to the provision of the Services, as shall be reasonably required by the Company. Advisor shall render the Services in a diligent manner and at a high professional standard for the benefit of the Company and shall perform and discharge well and faithfully, with devotion, honesty and fidelity, his obligations hereunder.\\n\\n1.3', metadata={'source': '../data/robinson/Robinson Advisory.pdf'}),\n",
       " Document(page_content=\"1.3\\n\\nAdvisor further agrees and undertakes to (i) comply with all the Company's policies, procedures and objectives, as in effect from time to time; (ii) adhere to any applicable law or provision, pertaining to his services; (iii) not take any action with the intention that the same will cause material damage to the good name of the Company; (iv) keep the contents of this Agreement confidential and not to disclose the existence or contents of this Agreement to any third party without the prior written consent of the Company.\\n\\n2. Time Tracking: Advisor shall provide the Company with a written report, in a format acceptable by the Company, setting forth the number of hours in which he provided the Services, on a daily basis, as well as an aggregated monthly report at the last day of each calendar month.\", metadata={'source': '../data/robinson/Robinson Advisory.pdf'}),\n",
       " Document(page_content='3. No Conflicts: Advisor represents that there is no contractual or other legal restriction preventing or limiting him/her from entering into this Agreement or performing any of his/her obligations hereunder. Advisor shall immediately and without delay inform the Company of any affairs and/or matters that might constitute a conflict of interest with his/her services to Company and/or the interests of the Company. Advisor agrees to indemnify, defend and hold harmless the Company and its directors, officers and employees against all claims, liabilities, and costs, including reasonable attorneys\\' fees in connection with any breach by Advisor, of any obligations pursuant to a prior or existing engagement with any other third party, including without limitation other employers or clients.\\n\\n- 2-\\n\\n4. Term: The term of this Agreement shall commence on the Effective Date and shall continue until terminated in accordance with the provisions herein (the \"Term\").', metadata={'source': '../data/robinson/Robinson Advisory.pdf'}),\n",
       " Document(page_content='- 2-\\n\\n4. Term: The term of this Agreement shall commence on the Effective Date and shall continue until terminated in accordance with the provisions herein (the \"Term\").\\n\\n5. Termination: Either party, at any given time, may terminate this Agreement, for any reason whatsoever, with or without cause, upon fourteen (14) days’ prior written notice. Notwithstanding the above, the Company may terminate this Agreement immediately and without prior notice if Advisor refuses or is unable to perform the Services, or is in breach of any provision of this Agreement.\\n\\n6. Compensation:\\n\\n6.1', metadata={'source': '../data/robinson/Robinson Advisory.pdf'}),\n",
       " Document(page_content='6. Compensation:\\n\\n6.1\\n\\nAs full and sole consideration for the Services, and subject to the performance of the Services, the Company shall pay the Advisor, against an invoice provided to the Company by Advisor, hourly fees at a rate of USD 9 (nine) per Billable Hour as defined below, limited to a maximum of USD 1,500 per month (the \"Fees\"). In addition, the Company shall pay the advisor USD 100 per month to finance a workspace for the Advisor, as long as the Advisor actually hires a professional workspace (the “Workspace Expense”). Advisor will not be entitled to any additional fees or expense reimbursement whatsoever, except as expressly provided for in this Agreement.\\n\\nBillable Hour: Net time devoted to the provisioning of the Services, without calculating meals, travels or any other overhead time borne by the Advisor.\\n\\n6.2', metadata={'source': '../data/robinson/Robinson Advisory.pdf'}),\n",
       " Document(page_content=\"Billable Hour: Net time devoted to the provisioning of the Services, without calculating meals, travels or any other overhead time borne by the Advisor.\\n\\n6.2\\n\\nThe Fees and the Workspace Expense for each month shall be payable by no later than ten (10) days from the beginning of the following month, against receipt by the Company of a duly issued tax invoice.\\n\\n6.3\\n\\nthe Company shall reimburse Advisor for any reasonable and actual expenses In addition, incurred by the Advisor in connection with the performance of the Services, all in accordance with the Company’s policies as determined by the Board of Directors from time to time, and subject to Company's prior written consent for each specific expense, before Advisor incurs such expenses. As a condition to reimbursement, Advisor shall provide the Company with copies of all invoices, receipts and other evidence of expenditures as required by Company policy.\\n\\n6.4\", metadata={'source': '../data/robinson/Robinson Advisory.pdf'}),\n",
       " Document(page_content='6.4\\n\\nAdvisor shall be solely responsible for any income taxes or other assessments made or imposed to the Services rendered and the by any governmental authority on Advisor with respect compensation received hereunder, and any and all expenses and costs of himself, employees, agents and representatives, including, without limitation, any salary, overtime, severance or social benefits payable thereto, and marketing costs incurred in connection with the performance of obligations hereunder.\\n\\n7. Confidentiality, Non-Competition and IP Ownership Undertaking: In connection with the the Advisor shall execute a performance of Advisor’s obligations under Confidentiality, Non-Competition and IP Ownership Undertaking in the form attached hereto as Exhibit A. this Agreement,', metadata={'source': '../data/robinson/Robinson Advisory.pdf'}),\n",
       " Document(page_content=\"8. Relationship of the Parties; Indemnification: The sole relationship between the Company and the Advisor shall be that of independent contractors. Advisor shall not be deemed to be, nor treated by the Company as, an employee of the Company. Advisor shall not receive nor be entitled to overtime pay, insurance, paid vacation, severance payments or similar fringe or employment benefits from the Company. Without derogating from the above, if it is adjudicated or otherwise determined by any governmental authority that the Advisor and/or anyone on Advisor's behalf, is, regardless of the terms of this Agreement, an employee of the Company, then payments to Advisor hereunder shall be reduced effective retroactively as of the beginning of the Term so that 60% of such payments shall\\n\\n- 3-\", metadata={'source': '../data/robinson/Robinson Advisory.pdf'}),\n",
       " Document(page_content='- 3-\\n\\nconstitute salary payments, and 40% of such payments shall constitute payment by the Company for all other Advisor statutory rights and benefits as employee of the Company throughout the Term. Advisor further consents that the Company may offset any amounts due to him under this Section from any amounts payable to Advisor under this Agreement. Advisor shall indemnify the Company for any loss or expenses incurred by the Company if it were determined that an alleged employer/employee relationship existed between the Advisor and the Company.', metadata={'source': '../data/robinson/Robinson Advisory.pdf'}),\n",
       " Document(page_content='9. Entire Agreement; No Waiver or Assignment: This Agreement together with the Exhibits, which are attached hereto and incorporated herein, set forth the entire Agreement between the parties and shall supersede all previous communications and agreements between the parties, either oral or written. This Agreement may be modified only by a written amendment executed by both parties. This Agreement may not be assigned, sold, delegated or transferred in any manner by Advisor for any reason whatsoever. The Company may assign the Agreement to a successor of all or substantially all of its assets or business, provided the assignee has assumed the Company’s obligations under this Agreement.\\n\\n10. Governing Law and Jurisdiction: This Agreement shall be governed by the laws of the State of Israel, without giving effect to the rules respecting conflicts of laws. The parties consent to the exclusive jurisdiction and venue of Tel Aviv courts for any lawsuit filed arising from or relating to this Agreement.', metadata={'source': '../data/robinson/Robinson Advisory.pdf'}),\n",
       " Document(page_content='11. Notices: Notices under this Agreement shall be delivered to the party’s email address as follows: Company: info@cloudcorp.com, Advisor: jackrobinson@gmail.com, or in any the other means with a proof of acceptance by the other party.\\n\\nIN WITNESS WHEREOF the parties have executed this Agreement as of the date first above written.\\n\\nCloud Investments Ltd.\\n\\nAdvisor\\n\\nBy: ________________________\\n\\nBy:________________________\\n\\nName: Silvan Joseph\\n\\nName: Jack Robinson\\n\\nTitle: CEO\\n\\n- 4-\\n\\nConfidentiality, None Compete and IP Ownership Undertaking Appendix A to Advisory Service Agreement as of June 15th, 2023\\n\\nTHIS CONFIDENTIALITY UNDERTAKING (“Undertaking”) is entered into as of June 15th, 2023 (“Effective Date”), by Mr. Jack Robinson, Passport Number 780055578, residing at 1 Rabin st, Tel Aviv, Israel, Email: jackrobinson@gmail.com, (“Advisor”), towards Cloud Investments Ltd (“Company”), as follows:', metadata={'source': '../data/robinson/Robinson Advisory.pdf'}),\n",
       " Document(page_content='1. Definitions: (a) Company’s Business: development of an AI-based contract assistant. (b) Services: Software development services and/or any other services provided by the Advisor to the Company. (c) Work Product: Any product of the Services, tangible and/or intangible, including any inventions, discoveries and/or other intellectual property. (d) Confidential Information: any information disclosed by the Company to the Advisor and/or created as a result of the Services (including Work Product), of any type, form (including orally) or media, including (without limitation), code, specifications, architecture, design, data, algorithms, business plans, budget, customers / suppliers lists etc.), but excluding information which prior to the disclosure was publicly available or known to the Advisor (both without breach of any confidentiality obligation towards the Company).', metadata={'source': '../data/robinson/Robinson Advisory.pdf'}),\n",
       " Document(page_content='2. Use: The Advisor may use the Confidential Information only for the purpose of providing the Services and shall not obtain any rights in it. The Advisor shall stop using Confidential Information and/or return it to the Company and/or destroy it immediately upon Company’s request. The Advisor may disclose Confidential Information in case this is required by law, but only to the extent required and after providing the Company a prompt written notice and subject to promptly cooperate with the Company in seeking a protective order. Safeguard: The Advisor shall safeguard the Confidential Information, keep it in strict confidence and shall not disclose it to any third party without the prior written consent of the Company.', metadata={'source': '../data/robinson/Robinson Advisory.pdf'}),\n",
       " Document(page_content='2. Use: The Advisor may use the Confidential Information only for the purpose of providing the Services and shall not obtain any rights in it. The Advisor shall stop using Confidential Information and/or return it to the Company and/or destroy it immediately upon Company’s request. The Advisor may disclose Confidential Information in case this is required by law, but only to the extent required and after providing the Company a prompt written notice and subject to promptly cooperate with the Company in seeking a protective order. Safeguard: The Advisor shall safeguard the Confidential Information, keep it in strict confidence and shall not disclose it to any third party without the prior written consent of the Company.', metadata={'source': '../data/robinson/Robinson Advisory.pdf'}),\n",
       " Document(page_content='IP: Any Work Product, upon creation, shall be fully and exclusively owned by the Company. The Advisor, immediately upon Company’s request, shall sign any document and/or perform any action needed to formalize such ownership. The Advisor shall not obtain any rights in the Work Product, including moral rights and/or rights for royalties or other consideration under any applicable law (including Section 134 of the Israeli Patent Law – 1967 if applicable), and shall not be entitled to any compensation with respect to the Services, which was not specifically agreed, in writing, between the Advisor and the Company.\\n\\n5. Non-Compete: During the term of engagement with the Company and for a period of 12 months thereafter, Advisor shall not be involved, as an employee, owner, contractor or otherwise, in any business, which competes with the Company’s Business, and shall not solicit and/or hire any employee and/or service provider of the Company, without the prior written consent of the Company.\\n\\n6.', metadata={'source': '../data/robinson/Robinson Advisory.pdf'}),\n",
       " Document(page_content='6.\\n\\nPersonnel: The Advisor may provide the Services only directly or through employees, contractors or agents (“Personnel”), which were specifically approved by the Company, and have committed in writing to confidentiality and ownership rights towards the Advisor and/or the Company, in a form restrictive enough to allow Advisor to comply and enforce the commitments under this undertaking (“Authorized Personnel”). Without limiting the foregoing, the Advisor is liable hereunder for any breach of this undertaking by any Advisor Personnel.', metadata={'source': '../data/robinson/Robinson Advisory.pdf'}),\n",
       " Document(page_content='7. Third Parties: The Advisor represents that the performance of the Services and the terms of this Undertaking, do not and will not breach any right, contractual or other, of any employer, customer or other third party. Advisor acknowledges that the Company is relying upon the truthfulness and accuracy of such representations in engaging with the Advisor. Advisor specifically undertakes not to use any proprietary and/or confidential information belonging to the Advisor and/or any third party while performing the Services and in case any Advisor proprietary or confidential information is used, such information will be automatically assigned to the Company and become its full and exclusive property.\\n\\n8.', metadata={'source': '../data/robinson/Robinson Advisory.pdf'}),\n",
       " Document(page_content='8.\\n\\nJurisdiction: This Undertaking shall be governed by and construed in accordance with the laws of the State of Israel, without giving effect to its laws pertaining to conflict of laws. The Advisor agrees that any and all disputes in connection with this Undertaking shall be submitted to the exclusive jurisdiction of the competent courts in the city of Tel Aviv-Yafo, Israel.\\n\\n9.\\n\\nPre-Undertaking: In case the Advisor has been providing Services to the Company before the Effective Date (“Pre-Undertaking Period”), this Undertaking shall also apply to the Pre-Undertaking Period, including, if relevant, before Company’s incorporation. The Company may assign this undertaking to third parties.\\n\\nIN WITNESS WHEREOF, the undersigned has executed this Undertaking as of the Effective Date.\\n\\nAdvisor\\n\\nBy: _____________________________________\\n\\nName: Jack Robinson', metadata={'source': '../data/robinson/Robinson Advisory.pdf'})]"
      ]
     },
     "execution_count": 128,
     "metadata": {},
     "output_type": "execute_result"
    }
   ],
   "source": [
    "from langchain_text_splitters import RecursiveCharacterTextSplitter\n",
    "\n",
    "text_splitter = RecursiveCharacterTextSplitter(\n",
    "    chunk_size=1024, chunk_overlap=200\n",
    ")\n",
    "doc_splits = text_splitter.split_documents(documents)\n",
    "print(len(doc_splits))\n",
    "doc_splits"
   ]
  },
  {
   "cell_type": "code",
   "execution_count": 90,
   "metadata": {},
   "outputs": [
    {
     "name": "stdout",
     "output_type": "stream",
     "text": [
      "4\n"
     ]
    },
    {
     "data": {
      "text/plain": [
       "[Document(page_content='ADVISORY SERVICES AGREEMENT\\n\\nThis Advisory Services Agreement is entered into as of June 15th, 2023 (the “Effective Date”), by and between Cloud Investments Ltd., ID 51-426526-3, an Israeli company (the \"Company\"), and Mr. Jack Robinson, Passport Number 780055578, Israel, Email: jackrobinson@gmail.com (\"Advisor\").\\n\\nresiding\\n\\nat 1 Rabin st, Tel Aviv,\\n\\nWhereas,\\n\\nAdvisor has expertise and/or knowledge and/or relationships, which are relevant to the Company’s business and the Company has asked Advisor to provide it with certain Advisory services, as described in this Agreement; and\\n\\nWhereas,\\n\\nAdvisor has agreed to provide the Company with such services, subject to the terms set forth in this Agreement.\\n\\nNOW THEREFORE THE PARTIES AGREE AS FOLLOWS:\\n\\n1. Services:\\n\\n1.1\\n\\nAdvisor shall provide to the Company, as an independent contractor, software development services, and / or any other services as agreed by the parties from time to time (the “Services”). Advisor shall not appoint any sub-agents or delegates in connection with performance of the Services, nor assign any of his obligations or rights hereunder without obtaining the prior written consent of the Company.\\n\\nWithout derogating from the foregoing, the Advisor shall not be required to provide the Services for a period of eighteen (18) days in each 12-month period.\\n\\n1.2\\n\\ntalent, In performing the Services, Advisor shall devote his time, know-how, expertise, experience and best efforts and attention to the provision of the Services, as shall be reasonably required by the Company. Advisor shall render the Services in a diligent manner and at a high professional standard for the benefit of the Company and shall perform and discharge well and faithfully, with devotion, honesty and fidelity, his obligations hereunder.\\n\\n1.3\\n\\nAdvisor further agrees and undertakes to (i) comply with all the Company\\'s policies, procedures and objectives, as in effect from time to time; (ii) adhere to any applicable law or provision, pertaining to his services; (iii) not take any action with the intention that the same will cause material damage to the good name of the Company; (iv) keep the contents of this Agreement confidential and not to disclose the existence or contents of this Agreement to any third party without the prior written consent of the Company.\\n\\n2. Time Tracking: Advisor shall provide the Company with a written report, in a format acceptable by the Company, setting forth the number of hours in which he provided the Services, on a daily basis, as well as an aggregated monthly report at the last day of each calendar month.\\n\\n3. No Conflicts: Advisor represents that there is no contractual or other legal restriction preventing or limiting him/her from entering into this Agreement or performing any of his/her obligations hereunder. Advisor shall immediately and without delay inform the Company of any affairs and/or matters that might constitute a conflict of interest with his/her services to Company and/or the interests of the Company. Advisor agrees to indemnify, defend and hold harmless the Company and its directors, officers and employees against all claims, liabilities, and costs, including reasonable attorneys\\' fees in connection with any breach by Advisor, of any obligations pursuant to a prior or existing engagement with any other third party, including without limitation other employers or clients.\\n\\n- 2-\\n\\n4. Term: The term of this Agreement shall commence on the Effective Date and shall continue until terminated in accordance with the provisions herein (the \"Term\").\\n\\n5. Termination: Either party, at any given time, may terminate this Agreement, for any reason whatsoever, with or without cause, upon fourteen (14) days’ prior written notice. Notwithstanding the above, the Company may terminate this Agreement immediately and without prior notice if Advisor refuses or is unable to perform the Services, or is in breach of any provision of this Agreement.\\n\\n6. Compensation:\\n\\n6.1\\n\\nAs full and sole consideration for the Services, and subject to the performance of the Services, the Company shall pay the Advisor, against an invoice provided to the Company by Advisor, hourly fees at a rate of USD 9 (nine) per Billable Hour as defined below, limited to a maximum of USD 1,500 per month (the \"Fees\"). In addition, the Company shall pay the advisor USD 100 per month to finance a workspace for the Advisor, as long as the Advisor actually hires a professional workspace (the “Workspace Expense”). Advisor will not be entitled to any additional fees or expense reimbursement whatsoever, except as expressly provided for in this Agreement.\\n\\nBillable Hour: Net time devoted to the provisioning of the Services, without calculating meals, travels or any other overhead time borne by the Advisor.\\n\\n6.2', metadata={'source': '../data/robinson/Robinson Advisory.pdf'}),\n",
       " Document(page_content='6. Compensation:\\n\\n6.1\\n\\nAs full and sole consideration for the Services, and subject to the performance of the Services, the Company shall pay the Advisor, against an invoice provided to the Company by Advisor, hourly fees at a rate of USD 9 (nine) per Billable Hour as defined below, limited to a maximum of USD 1,500 per month (the \"Fees\"). In addition, the Company shall pay the advisor USD 100 per month to finance a workspace for the Advisor, as long as the Advisor actually hires a professional workspace (the “Workspace Expense”). Advisor will not be entitled to any additional fees or expense reimbursement whatsoever, except as expressly provided for in this Agreement.\\n\\nBillable Hour: Net time devoted to the provisioning of the Services, without calculating meals, travels or any other overhead time borne by the Advisor.\\n\\n6.2\\n\\nThe Fees and the Workspace Expense for each month shall be payable by no later than ten (10) days from the beginning of the following month, against receipt by the Company of a duly issued tax invoice.\\n\\n6.3\\n\\nthe Company shall reimburse Advisor for any reasonable and actual expenses In addition, incurred by the Advisor in connection with the performance of the Services, all in accordance with the Company’s policies as determined by the Board of Directors from time to time, and subject to Company\\'s prior written consent for each specific expense, before Advisor incurs such expenses. As a condition to reimbursement, Advisor shall provide the Company with copies of all invoices, receipts and other evidence of expenditures as required by Company policy.\\n\\n6.4\\n\\nAdvisor shall be solely responsible for any income taxes or other assessments made or imposed to the Services rendered and the by any governmental authority on Advisor with respect compensation received hereunder, and any and all expenses and costs of himself, employees, agents and representatives, including, without limitation, any salary, overtime, severance or social benefits payable thereto, and marketing costs incurred in connection with the performance of obligations hereunder.\\n\\n7. Confidentiality, Non-Competition and IP Ownership Undertaking: In connection with the the Advisor shall execute a performance of Advisor’s obligations under Confidentiality, Non-Competition and IP Ownership Undertaking in the form attached hereto as Exhibit A. this Agreement,\\n\\n8. Relationship of the Parties; Indemnification: The sole relationship between the Company and the Advisor shall be that of independent contractors. Advisor shall not be deemed to be, nor treated by the Company as, an employee of the Company. Advisor shall not receive nor be entitled to overtime pay, insurance, paid vacation, severance payments or similar fringe or employment benefits from the Company. Without derogating from the above, if it is adjudicated or otherwise determined by any governmental authority that the Advisor and/or anyone on Advisor\\'s behalf, is, regardless of the terms of this Agreement, an employee of the Company, then payments to Advisor hereunder shall be reduced effective retroactively as of the beginning of the Term so that 60% of such payments shall\\n\\n- 3-\\n\\nconstitute salary payments, and 40% of such payments shall constitute payment by the Company for all other Advisor statutory rights and benefits as employee of the Company throughout the Term. Advisor further consents that the Company may offset any amounts due to him under this Section from any amounts payable to Advisor under this Agreement. Advisor shall indemnify the Company for any loss or expenses incurred by the Company if it were determined that an alleged employer/employee relationship existed between the Advisor and the Company.\\n\\n9. Entire Agreement; No Waiver or Assignment: This Agreement together with the Exhibits, which are attached hereto and incorporated herein, set forth the entire Agreement between the parties and shall supersede all previous communications and agreements between the parties, either oral or written. This Agreement may be modified only by a written amendment executed by both parties. This Agreement may not be assigned, sold, delegated or transferred in any manner by Advisor for any reason whatsoever. The Company may assign the Agreement to a successor of all or substantially all of its assets or business, provided the assignee has assumed the Company’s obligations under this Agreement.\\n\\n10. Governing Law and Jurisdiction: This Agreement shall be governed by the laws of the State of Israel, without giving effect to the rules respecting conflicts of laws. The parties consent to the exclusive jurisdiction and venue of Tel Aviv courts for any lawsuit filed arising from or relating to this Agreement.\\n\\n11. Notices: Notices under this Agreement shall be delivered to the party’s email address as follows: Company: info@cloudcorp.com, Advisor: jackrobinson@gmail.com, or in any the other means with a proof of acceptance by the other party.\\n\\nIN WITNESS WHEREOF the parties have executed this Agreement as of the date first above written.\\n\\nCloud Investments Ltd.\\n\\nAdvisor\\n\\nBy: ________________________\\n\\nBy:________________________', metadata={'source': '../data/robinson/Robinson Advisory.pdf'}),\n",
       " Document(page_content='10. Governing Law and Jurisdiction: This Agreement shall be governed by the laws of the State of Israel, without giving effect to the rules respecting conflicts of laws. The parties consent to the exclusive jurisdiction and venue of Tel Aviv courts for any lawsuit filed arising from or relating to this Agreement.\\n\\n11. Notices: Notices under this Agreement shall be delivered to the party’s email address as follows: Company: info@cloudcorp.com, Advisor: jackrobinson@gmail.com, or in any the other means with a proof of acceptance by the other party.\\n\\nIN WITNESS WHEREOF the parties have executed this Agreement as of the date first above written.\\n\\nCloud Investments Ltd.\\n\\nAdvisor\\n\\nBy: ________________________\\n\\nBy:________________________\\n\\nName: Silvan Joseph\\n\\nName: Jack Robinson\\n\\nTitle: CEO\\n\\n- 4-\\n\\nConfidentiality, None Compete and IP Ownership Undertaking Appendix A to Advisory Service Agreement as of June 15th, 2023\\n\\nTHIS CONFIDENTIALITY UNDERTAKING (“Undertaking”) is entered into as of June 15th, 2023 (“Effective Date”), by Mr. Jack Robinson, Passport Number 780055578, residing at 1 Rabin st, Tel Aviv, Israel, Email: jackrobinson@gmail.com, (“Advisor”), towards Cloud Investments Ltd (“Company”), as follows:\\n\\n1. Definitions: (a) Company’s Business: development of an AI-based contract assistant. (b) Services: Software development services and/or any other services provided by the Advisor to the Company. (c) Work Product: Any product of the Services, tangible and/or intangible, including any inventions, discoveries and/or other intellectual property. (d) Confidential Information: any information disclosed by the Company to the Advisor and/or created as a result of the Services (including Work Product), of any type, form (including orally) or media, including (without limitation), code, specifications, architecture, design, data, algorithms, business plans, budget, customers / suppliers lists etc.), but excluding information which prior to the disclosure was publicly available or known to the Advisor (both without breach of any confidentiality obligation towards the Company).\\n\\n2. Use: The Advisor may use the Confidential Information only for the purpose of providing the Services and shall not obtain any rights in it. The Advisor shall stop using Confidential Information and/or return it to the Company and/or destroy it immediately upon Company’s request. The Advisor may disclose Confidential Information in case this is required by law, but only to the extent required and after providing the Company a prompt written notice and subject to promptly cooperate with the Company in seeking a protective order. Safeguard: The Advisor shall safeguard the Confidential Information, keep it in strict confidence and shall not disclose it to any third party without the prior written consent of the Company.\\n\\n2. Use: The Advisor may use the Confidential Information only for the purpose of providing the Services and shall not obtain any rights in it. The Advisor shall stop using Confidential Information and/or return it to the Company and/or destroy it immediately upon Company’s request. The Advisor may disclose Confidential Information in case this is required by law, but only to the extent required and after providing the Company a prompt written notice and subject to promptly cooperate with the Company in seeking a protective order. Safeguard: The Advisor shall safeguard the Confidential Information, keep it in strict confidence and shall not disclose it to any third party without the prior written consent of the Company.\\n\\nIP: Any Work Product, upon creation, shall be fully and exclusively owned by the Company. The Advisor, immediately upon Company’s request, shall sign any document and/or perform any action needed to formalize such ownership. The Advisor shall not obtain any rights in the Work Product, including moral rights and/or rights for royalties or other consideration under any applicable law (including Section 134 of the Israeli Patent Law – 1967 if applicable), and shall not be entitled to any compensation with respect to the Services, which was not specifically agreed, in writing, between the Advisor and the Company.\\n\\n5. Non-Compete: During the term of engagement with the Company and for a period of 12 months thereafter, Advisor shall not be involved, as an employee, owner, contractor or otherwise, in any business, which competes with the Company’s Business, and shall not solicit and/or hire any employee and/or service provider of the Company, without the prior written consent of the Company.\\n\\n6.', metadata={'source': '../data/robinson/Robinson Advisory.pdf'}),\n",
       " Document(page_content='5. Non-Compete: During the term of engagement with the Company and for a period of 12 months thereafter, Advisor shall not be involved, as an employee, owner, contractor or otherwise, in any business, which competes with the Company’s Business, and shall not solicit and/or hire any employee and/or service provider of the Company, without the prior written consent of the Company.\\n\\n6.\\n\\nPersonnel: The Advisor may provide the Services only directly or through employees, contractors or agents (“Personnel”), which were specifically approved by the Company, and have committed in writing to confidentiality and ownership rights towards the Advisor and/or the Company, in a form restrictive enough to allow Advisor to comply and enforce the commitments under this undertaking (“Authorized Personnel”). Without limiting the foregoing, the Advisor is liable hereunder for any breach of this undertaking by any Advisor Personnel.\\n\\n7. Third Parties: The Advisor represents that the performance of the Services and the terms of this Undertaking, do not and will not breach any right, contractual or other, of any employer, customer or other third party. Advisor acknowledges that the Company is relying upon the truthfulness and accuracy of such representations in engaging with the Advisor. Advisor specifically undertakes not to use any proprietary and/or confidential information belonging to the Advisor and/or any third party while performing the Services and in case any Advisor proprietary or confidential information is used, such information will be automatically assigned to the Company and become its full and exclusive property.\\n\\n8.\\n\\nJurisdiction: This Undertaking shall be governed by and construed in accordance with the laws of the State of Israel, without giving effect to its laws pertaining to conflict of laws. The Advisor agrees that any and all disputes in connection with this Undertaking shall be submitted to the exclusive jurisdiction of the competent courts in the city of Tel Aviv-Yafo, Israel.\\n\\n9.\\n\\nPre-Undertaking: In case the Advisor has been providing Services to the Company before the Effective Date (“Pre-Undertaking Period”), this Undertaking shall also apply to the Pre-Undertaking Period, including, if relevant, before Company’s incorporation. The Company may assign this undertaking to third parties.\\n\\nIN WITNESS WHEREOF, the undersigned has executed this Undertaking as of the Effective Date.\\n\\nAdvisor\\n\\nBy: _____________________________________\\n\\nName: Jack Robinson', metadata={'source': '../data/robinson/Robinson Advisory.pdf'})]"
      ]
     },
     "execution_count": 90,
     "metadata": {},
     "output_type": "execute_result"
    }
   ],
   "source": [
    "# Replaced in favor of recursive text splitter\n",
    "\n",
    "# from langchain_text_splitters import CharacterTextSplitter\n",
    "\n",
    "# text_splitter = CharacterTextSplitter.from_tiktoken_encoder(\n",
    "#     chunk_size=1024, chunk_overlap=200\n",
    "# )\n",
    "# doc_splits = text_splitter.split_documents(documents)\n",
    "# print(len(doc_splits))\n",
    "# doc_splits"
   ]
  },
  {
   "cell_type": "markdown",
   "metadata": {},
   "source": [
    "## Getting the number of characters for each chunk\n",
    "#### Only to be used for RecursiveCharacterTextSplitter"
   ]
  },
  {
   "cell_type": "code",
   "execution_count": 129,
   "metadata": {},
   "outputs": [
    {
     "name": "stdout",
     "output_type": "stream",
     "text": [
      "The chunk has 771 characters\n",
      "The chunk has 753 characters\n",
      "The chunk has 618 characters\n",
      "The chunk has 812 characters\n",
      "The chunk has 965 characters\n",
      "The chunk has 583 characters\n",
      "The chunk has 836 characters\n",
      "The chunk has 922 characters\n",
      "The chunk has 774 characters\n",
      "The chunk has 791 characters\n",
      "The chunk has 550 characters\n",
      "The chunk has 1007 characters\n",
      "The chunk has 906 characters\n",
      "The chunk has 880 characters\n",
      "The chunk has 728 characters\n",
      "The chunk has 728 characters\n",
      "The chunk has 1003 characters\n",
      "The chunk has 541 characters\n",
      "The chunk has 711 characters\n",
      "The chunk has 863 characters\n"
     ]
    }
   ],
   "source": [
    "for chunk in doc_splits:\n",
    "    print(\"The chunk has %s characters\" % len(chunk.page_content))"
   ]
  },
  {
   "cell_type": "markdown",
   "metadata": {},
   "source": [
    "## Getting the number of tokens for each document\n",
    "\n",
    "##### Only to be used for CharacterTextSplitter.from_tiktoken_encoder() text splitter"
   ]
  },
  {
   "cell_type": "code",
   "execution_count": 91,
   "metadata": {},
   "outputs": [
    {
     "name": "stdout",
     "output_type": "stream",
     "text": [
      "The document is 966 tokens\n",
      "The document is 984 tokens\n",
      "The document is 900 tokens\n",
      "The document is 466 tokens\n"
     ]
    }
   ],
   "source": [
    "# import tiktoken\n",
    "\n",
    "# encoding = tiktoken.encoding_for_model(\"gpt-3.5-turbo\")\n",
    "# for d in doc_splits:\n",
    "#     print(\"The document is %s tokens\" % len(encoding.encode(d.page_content)))"
   ]
  },
  {
   "cell_type": "markdown",
   "metadata": {},
   "source": [
    "## Index(Vector Store)"
   ]
  },
  {
   "cell_type": "code",
   "execution_count": 130,
   "metadata": {},
   "outputs": [],
   "source": [
    "from langchain_community.vectorstores.chroma import Chroma\n",
    "from langchain_core.output_parsers import StrOutputParser\n",
    "from langchain_core.runnables import RunnableLambda, RunnablePassthrough\n",
    "from langchain_nomic import NomicEmbeddings\n",
    "from langchain_nomic.embeddings import NomicEmbeddings"
   ]
  },
  {
   "cell_type": "code",
   "execution_count": 142,
   "metadata": {},
   "outputs": [
    {
     "name": "stdout",
     "output_type": "stream",
     "text": [
      "['d6f8e0d5-59c1-552e-b5e9-5e49bb58ec18', '39e5ae5f-ca9d-5fea-b6e3-111e719cbf6f', 'f69bd7c2-783f-58f3-b1ec-d306da5428ed', '15294549-03e5-5d79-ad41-c35811e88430', '2f405de2-33ad-5f49-a25d-aff899f67d66', '8eaa82d1-9b71-5c33-b4f9-bb059dfcebe5', 'e5e8d9ab-5bae-5850-ab96-86ccea1e4274', '71443022-874d-51d9-93b5-833c851c22dc', '28ab26f8-4778-5473-936f-9a9c41dc2716', '431653c3-c626-52c2-ae73-fc5c033f17fa', '1f38d2fe-c1c4-576b-b0d5-73a4dedd4728', '6e19583f-0292-5b33-a912-f03b7eb69389', 'ddf2d06d-a5ca-5e83-8d18-6f2d6fd2970f', 'c3eaaf3c-53c2-5148-b9bc-073e485e4a09', '3ad5a47d-e82e-52c6-a7d5-c646602ec21c', '5e358cf8-9e00-541f-a771-43ee0b3c0033', '3d8beabe-b983-5093-8a8b-cef2712a03a6', '17ab2a08-c73c-59b4-94f5-e257acbefcf1', '3e15e8a4-b871-5707-8409-50b7bc771807']\n"
     ]
    }
   ],
   "source": [
    "import uuid\n",
    "\n",
    "# Create a list of unique ids for each document based on the content\n",
    "ids = [str(uuid.uuid5(uuid.NAMESPACE_DNS, doc.page_content)) for doc in doc_splits]\n",
    "unique_ids = list(set(ids))\n",
    "print(unique_ids)\n",
    "# Ensure that only docs that correspond to unique ids are kept and that only one of the duplicate ids is kept\n",
    "seen_ids = set()\n",
    "unique_docs = [doc for doc, id in zip(doc_splits, ids) if id not in seen_ids and (seen_ids.add(id) or True)]\n",
    "\n",
    "# Add the unique documents to your database\n",
    "db = Chroma.from_documents(unique_docs, \n",
    "                           embedding=NomicEmbeddings(model=\"nomic-embed-text-v1\"), \n",
    "                           ids=unique_ids, \n",
    "                           persist_directory='../data/chroma-dbb'\n",
    ")\n",
    "db.persist()"
   ]
  },
  {
   "cell_type": "code",
   "execution_count": 143,
   "metadata": {},
   "outputs": [
    {
     "data": {
      "text/plain": [
       "{'ids': ['15294549-03e5-5d79-ad41-c35811e88430',\n",
       "  '17ab2a08-c73c-59b4-94f5-e257acbefcf1',\n",
       "  '1f38d2fe-c1c4-576b-b0d5-73a4dedd4728',\n",
       "  '28ab26f8-4778-5473-936f-9a9c41dc2716',\n",
       "  '2f405de2-33ad-5f49-a25d-aff899f67d66',\n",
       "  '39e5ae5f-ca9d-5fea-b6e3-111e719cbf6f',\n",
       "  '3ad5a47d-e82e-52c6-a7d5-c646602ec21c',\n",
       "  '3d8beabe-b983-5093-8a8b-cef2712a03a6',\n",
       "  '3e15e8a4-b871-5707-8409-50b7bc771807',\n",
       "  '431653c3-c626-52c2-ae73-fc5c033f17fa',\n",
       "  '5e358cf8-9e00-541f-a771-43ee0b3c0033',\n",
       "  '6e19583f-0292-5b33-a912-f03b7eb69389',\n",
       "  '71443022-874d-51d9-93b5-833c851c22dc',\n",
       "  '8eaa82d1-9b71-5c33-b4f9-bb059dfcebe5',\n",
       "  'c3eaaf3c-53c2-5148-b9bc-073e485e4a09',\n",
       "  'd6f8e0d5-59c1-552e-b5e9-5e49bb58ec18',\n",
       "  'ddf2d06d-a5ca-5e83-8d18-6f2d6fd2970f',\n",
       "  'e5e8d9ab-5bae-5850-ab96-86ccea1e4274',\n",
       "  'f69bd7c2-783f-58f3-b1ec-d306da5428ed'],\n",
       " 'embeddings': None,\n",
       " 'metadatas': [{'source': '../data/robinson/Robinson Advisory.pdf'},\n",
       "  {'source': '../data/robinson/Robinson Advisory.pdf'},\n",
       "  {'source': '../data/robinson/Robinson Advisory.pdf'},\n",
       "  {'source': '../data/robinson/Robinson Advisory.pdf'},\n",
       "  {'source': '../data/robinson/Robinson Advisory.pdf'},\n",
       "  {'source': '../data/robinson/Robinson Advisory.pdf'},\n",
       "  {'source': '../data/robinson/Robinson Advisory.pdf'},\n",
       "  {'source': '../data/robinson/Robinson Advisory.pdf'},\n",
       "  {'source': '../data/robinson/Robinson Advisory.pdf'},\n",
       "  {'source': '../data/robinson/Robinson Advisory.pdf'},\n",
       "  {'source': '../data/robinson/Robinson Advisory.pdf'},\n",
       "  {'source': '../data/robinson/Robinson Advisory.pdf'},\n",
       "  {'source': '../data/robinson/Robinson Advisory.pdf'},\n",
       "  {'source': '../data/robinson/Robinson Advisory.pdf'},\n",
       "  {'source': '../data/robinson/Robinson Advisory.pdf'},\n",
       "  {'source': '../data/robinson/Robinson Advisory.pdf'},\n",
       "  {'source': '../data/robinson/Robinson Advisory.pdf'},\n",
       "  {'source': '../data/robinson/Robinson Advisory.pdf'},\n",
       "  {'source': '../data/robinson/Robinson Advisory.pdf'}],\n",
       " 'documents': [\"1.3\\n\\nAdvisor further agrees and undertakes to (i) comply with all the Company's policies, procedures and objectives, as in effect from time to time; (ii) adhere to any applicable law or provision, pertaining to his services; (iii) not take any action with the intention that the same will cause material damage to the good name of the Company; (iv) keep the contents of this Agreement confidential and not to disclose the existence or contents of this Agreement to any third party without the prior written consent of the Company.\\n\\n2. Time Tracking: Advisor shall provide the Company with a written report, in a format acceptable by the Company, setting forth the number of hours in which he provided the Services, on a daily basis, as well as an aggregated monthly report at the last day of each calendar month.\",\n",
       "  '7. Third Parties: The Advisor represents that the performance of the Services and the terms of this Undertaking, do not and will not breach any right, contractual or other, of any employer, customer or other third party. Advisor acknowledges that the Company is relying upon the truthfulness and accuracy of such representations in engaging with the Advisor. Advisor specifically undertakes not to use any proprietary and/or confidential information belonging to the Advisor and/or any third party while performing the Services and in case any Advisor proprietary or confidential information is used, such information will be automatically assigned to the Company and become its full and exclusive property.\\n\\n8.',\n",
       "  '- 3-\\n\\nconstitute salary payments, and 40% of such payments shall constitute payment by the Company for all other Advisor statutory rights and benefits as employee of the Company throughout the Term. Advisor further consents that the Company may offset any amounts due to him under this Section from any amounts payable to Advisor under this Agreement. Advisor shall indemnify the Company for any loss or expenses incurred by the Company if it were determined that an alleged employer/employee relationship existed between the Advisor and the Company.',\n",
       "  '6.4\\n\\nAdvisor shall be solely responsible for any income taxes or other assessments made or imposed to the Services rendered and the by any governmental authority on Advisor with respect compensation received hereunder, and any and all expenses and costs of himself, employees, agents and representatives, including, without limitation, any salary, overtime, severance or social benefits payable thereto, and marketing costs incurred in connection with the performance of obligations hereunder.\\n\\n7. Confidentiality, Non-Competition and IP Ownership Undertaking: In connection with the the Advisor shall execute a performance of Advisor’s obligations under Confidentiality, Non-Competition and IP Ownership Undertaking in the form attached hereto as Exhibit A. this Agreement,',\n",
       "  '3. No Conflicts: Advisor represents that there is no contractual or other legal restriction preventing or limiting him/her from entering into this Agreement or performing any of his/her obligations hereunder. Advisor shall immediately and without delay inform the Company of any affairs and/or matters that might constitute a conflict of interest with his/her services to Company and/or the interests of the Company. Advisor agrees to indemnify, defend and hold harmless the Company and its directors, officers and employees against all claims, liabilities, and costs, including reasonable attorneys\\' fees in connection with any breach by Advisor, of any obligations pursuant to a prior or existing engagement with any other third party, including without limitation other employers or clients.\\n\\n- 2-\\n\\n4. Term: The term of this Agreement shall commence on the Effective Date and shall continue until terminated in accordance with the provisions herein (the \"Term\").',\n",
       "  'Whereas,\\n\\nAdvisor has agreed to provide the Company with such services, subject to the terms set forth in this Agreement.\\n\\nNOW THEREFORE THE PARTIES AGREE AS FOLLOWS:\\n\\n1. Services:\\n\\n1.1\\n\\nAdvisor shall provide to the Company, as an independent contractor, software development services, and / or any other services as agreed by the parties from time to time (the “Services”). Advisor shall not appoint any sub-agents or delegates in connection with performance of the Services, nor assign any of his obligations or rights hereunder without obtaining the prior written consent of the Company.\\n\\nWithout derogating from the foregoing, the Advisor shall not be required to provide the Services for a period of eighteen (18) days in each 12-month period.\\n\\n1.2',\n",
       "  '2. Use: The Advisor may use the Confidential Information only for the purpose of providing the Services and shall not obtain any rights in it. The Advisor shall stop using Confidential Information and/or return it to the Company and/or destroy it immediately upon Company’s request. The Advisor may disclose Confidential Information in case this is required by law, but only to the extent required and after providing the Company a prompt written notice and subject to promptly cooperate with the Company in seeking a protective order. Safeguard: The Advisor shall safeguard the Confidential Information, keep it in strict confidence and shall not disclose it to any third party without the prior written consent of the Company.',\n",
       "  '6.\\n\\nPersonnel: The Advisor may provide the Services only directly or through employees, contractors or agents (“Personnel”), which were specifically approved by the Company, and have committed in writing to confidentiality and ownership rights towards the Advisor and/or the Company, in a form restrictive enough to allow Advisor to comply and enforce the commitments under this undertaking (“Authorized Personnel”). Without limiting the foregoing, the Advisor is liable hereunder for any breach of this undertaking by any Advisor Personnel.',\n",
       "  '8.\\n\\nJurisdiction: This Undertaking shall be governed by and construed in accordance with the laws of the State of Israel, without giving effect to its laws pertaining to conflict of laws. The Advisor agrees that any and all disputes in connection with this Undertaking shall be submitted to the exclusive jurisdiction of the competent courts in the city of Tel Aviv-Yafo, Israel.\\n\\n9.\\n\\nPre-Undertaking: In case the Advisor has been providing Services to the Company before the Effective Date (“Pre-Undertaking Period”), this Undertaking shall also apply to the Pre-Undertaking Period, including, if relevant, before Company’s incorporation. The Company may assign this undertaking to third parties.\\n\\nIN WITNESS WHEREOF, the undersigned has executed this Undertaking as of the Effective Date.\\n\\nAdvisor\\n\\nBy: _____________________________________\\n\\nName: Jack Robinson',\n",
       "  \"8. Relationship of the Parties; Indemnification: The sole relationship between the Company and the Advisor shall be that of independent contractors. Advisor shall not be deemed to be, nor treated by the Company as, an employee of the Company. Advisor shall not receive nor be entitled to overtime pay, insurance, paid vacation, severance payments or similar fringe or employment benefits from the Company. Without derogating from the above, if it is adjudicated or otherwise determined by any governmental authority that the Advisor and/or anyone on Advisor's behalf, is, regardless of the terms of this Agreement, an employee of the Company, then payments to Advisor hereunder shall be reduced effective retroactively as of the beginning of the Term so that 60% of such payments shall\\n\\n- 3-\",\n",
       "  'IP: Any Work Product, upon creation, shall be fully and exclusively owned by the Company. The Advisor, immediately upon Company’s request, shall sign any document and/or perform any action needed to formalize such ownership. The Advisor shall not obtain any rights in the Work Product, including moral rights and/or rights for royalties or other consideration under any applicable law (including Section 134 of the Israeli Patent Law – 1967 if applicable), and shall not be entitled to any compensation with respect to the Services, which was not specifically agreed, in writing, between the Advisor and the Company.\\n\\n5. Non-Compete: During the term of engagement with the Company and for a period of 12 months thereafter, Advisor shall not be involved, as an employee, owner, contractor or otherwise, in any business, which competes with the Company’s Business, and shall not solicit and/or hire any employee and/or service provider of the Company, without the prior written consent of the Company.\\n\\n6.',\n",
       "  '9. Entire Agreement; No Waiver or Assignment: This Agreement together with the Exhibits, which are attached hereto and incorporated herein, set forth the entire Agreement between the parties and shall supersede all previous communications and agreements between the parties, either oral or written. This Agreement may be modified only by a written amendment executed by both parties. This Agreement may not be assigned, sold, delegated or transferred in any manner by Advisor for any reason whatsoever. The Company may assign the Agreement to a successor of all or substantially all of its assets or business, provided the assignee has assumed the Company’s obligations under this Agreement.\\n\\n10. Governing Law and Jurisdiction: This Agreement shall be governed by the laws of the State of Israel, without giving effect to the rules respecting conflicts of laws. The parties consent to the exclusive jurisdiction and venue of Tel Aviv courts for any lawsuit filed arising from or relating to this Agreement.',\n",
       "  \"Billable Hour: Net time devoted to the provisioning of the Services, without calculating meals, travels or any other overhead time borne by the Advisor.\\n\\n6.2\\n\\nThe Fees and the Workspace Expense for each month shall be payable by no later than ten (10) days from the beginning of the following month, against receipt by the Company of a duly issued tax invoice.\\n\\n6.3\\n\\nthe Company shall reimburse Advisor for any reasonable and actual expenses In addition, incurred by the Advisor in connection with the performance of the Services, all in accordance with the Company’s policies as determined by the Board of Directors from time to time, and subject to Company's prior written consent for each specific expense, before Advisor incurs such expenses. As a condition to reimbursement, Advisor shall provide the Company with copies of all invoices, receipts and other evidence of expenditures as required by Company policy.\\n\\n6.4\",\n",
       "  '- 2-\\n\\n4. Term: The term of this Agreement shall commence on the Effective Date and shall continue until terminated in accordance with the provisions herein (the \"Term\").\\n\\n5. Termination: Either party, at any given time, may terminate this Agreement, for any reason whatsoever, with or without cause, upon fourteen (14) days’ prior written notice. Notwithstanding the above, the Company may terminate this Agreement immediately and without prior notice if Advisor refuses or is unable to perform the Services, or is in breach of any provision of this Agreement.\\n\\n6. Compensation:\\n\\n6.1',\n",
       "  '1. Definitions: (a) Company’s Business: development of an AI-based contract assistant. (b) Services: Software development services and/or any other services provided by the Advisor to the Company. (c) Work Product: Any product of the Services, tangible and/or intangible, including any inventions, discoveries and/or other intellectual property. (d) Confidential Information: any information disclosed by the Company to the Advisor and/or created as a result of the Services (including Work Product), of any type, form (including orally) or media, including (without limitation), code, specifications, architecture, design, data, algorithms, business plans, budget, customers / suppliers lists etc.), but excluding information which prior to the disclosure was publicly available or known to the Advisor (both without breach of any confidentiality obligation towards the Company).',\n",
       "  'ADVISORY SERVICES AGREEMENT\\n\\nThis Advisory Services Agreement is entered into as of June 15th, 2023 (the “Effective Date”), by and between Cloud Investments Ltd., ID 51-426526-3, an Israeli company (the \"Company\"), and Mr. Jack Robinson, Passport Number 780055578, Israel, Email: jackrobinson@gmail.com (\"Advisor\").\\n\\nresiding\\n\\nat 1 Rabin st, Tel Aviv,\\n\\nWhereas,\\n\\nAdvisor has expertise and/or knowledge and/or relationships, which are relevant to the Company’s business and the Company has asked Advisor to provide it with certain Advisory services, as described in this Agreement; and\\n\\nWhereas,\\n\\nAdvisor has agreed to provide the Company with such services, subject to the terms set forth in this Agreement.\\n\\nNOW THEREFORE THE PARTIES AGREE AS FOLLOWS:\\n\\n1. Services:\\n\\n1.1',\n",
       "  '11. Notices: Notices under this Agreement shall be delivered to the party’s email address as follows: Company: info@cloudcorp.com, Advisor: jackrobinson@gmail.com, or in any the other means with a proof of acceptance by the other party.\\n\\nIN WITNESS WHEREOF the parties have executed this Agreement as of the date first above written.\\n\\nCloud Investments Ltd.\\n\\nAdvisor\\n\\nBy: ________________________\\n\\nBy:________________________\\n\\nName: Silvan Joseph\\n\\nName: Jack Robinson\\n\\nTitle: CEO\\n\\n- 4-\\n\\nConfidentiality, None Compete and IP Ownership Undertaking Appendix A to Advisory Service Agreement as of June 15th, 2023\\n\\nTHIS CONFIDENTIALITY UNDERTAKING (“Undertaking”) is entered into as of June 15th, 2023 (“Effective Date”), by Mr. Jack Robinson, Passport Number 780055578, residing at 1 Rabin st, Tel Aviv, Israel, Email: jackrobinson@gmail.com, (“Advisor”), towards Cloud Investments Ltd (“Company”), as follows:',\n",
       "  '6. Compensation:\\n\\n6.1\\n\\nAs full and sole consideration for the Services, and subject to the performance of the Services, the Company shall pay the Advisor, against an invoice provided to the Company by Advisor, hourly fees at a rate of USD 9 (nine) per Billable Hour as defined below, limited to a maximum of USD 1,500 per month (the \"Fees\"). In addition, the Company shall pay the advisor USD 100 per month to finance a workspace for the Advisor, as long as the Advisor actually hires a professional workspace (the “Workspace Expense”). Advisor will not be entitled to any additional fees or expense reimbursement whatsoever, except as expressly provided for in this Agreement.\\n\\nBillable Hour: Net time devoted to the provisioning of the Services, without calculating meals, travels or any other overhead time borne by the Advisor.\\n\\n6.2',\n",
       "  'Without derogating from the foregoing, the Advisor shall not be required to provide the Services for a period of eighteen (18) days in each 12-month period.\\n\\n1.2\\n\\ntalent, In performing the Services, Advisor shall devote his time, know-how, expertise, experience and best efforts and attention to the provision of the Services, as shall be reasonably required by the Company. Advisor shall render the Services in a diligent manner and at a high professional standard for the benefit of the Company and shall perform and discharge well and faithfully, with devotion, honesty and fidelity, his obligations hereunder.\\n\\n1.3'],\n",
       " 'uris': None,\n",
       " 'data': None}"
      ]
     },
     "execution_count": 143,
     "metadata": {},
     "output_type": "execute_result"
    }
   ],
   "source": [
    "db.get()"
   ]
  },
  {
   "cell_type": "code",
   "execution_count": 132,
   "metadata": {},
   "outputs": [],
   "source": [
    "retriever = db.as_retriever(search_kwargs={\"k\": 4})"
   ]
  },
  {
   "cell_type": "code",
   "execution_count": 86,
   "metadata": {},
   "outputs": [],
   "source": [
    "# # Add to vectorDB\n",
    "# vectorstore = Chroma.from_documents(\n",
    "#     documents=doc_splits,\n",
    "#     collection_name=\"rag-chromaa\",\n",
    "#     embedding=NomicEmbeddings(model=\"nomic-embed-text-v1\"),\n",
    "# )\n",
    "# retriever = vectorstore.as_retriever(search_kwargs={\"k\": 4})"
   ]
  },
  {
   "cell_type": "code",
   "execution_count": 133,
   "metadata": {},
   "outputs": [
    {
     "data": {
      "text/plain": [
       "[Document(page_content='- 3-\\n\\nconstitute salary payments, and 40% of such payments shall constitute payment by the Company for all other Advisor statutory rights and benefits as employee of the Company throughout the Term. Advisor further consents that the Company may offset any amounts due to him under this Section from any amounts payable to Advisor under this Agreement. Advisor shall indemnify the Company for any loss or expenses incurred by the Company if it were determined that an alleged employer/employee relationship existed between the Advisor and the Company.', metadata={'source': '../data/robinson/Robinson Advisory.pdf'}),\n",
       " Document(page_content=\"8. Relationship of the Parties; Indemnification: The sole relationship between the Company and the Advisor shall be that of independent contractors. Advisor shall not be deemed to be, nor treated by the Company as, an employee of the Company. Advisor shall not receive nor be entitled to overtime pay, insurance, paid vacation, severance payments or similar fringe or employment benefits from the Company. Without derogating from the above, if it is adjudicated or otherwise determined by any governmental authority that the Advisor and/or anyone on Advisor's behalf, is, regardless of the terms of this Agreement, an employee of the Company, then payments to Advisor hereunder shall be reduced effective retroactively as of the beginning of the Term so that 60% of such payments shall\\n\\n- 3-\", metadata={'source': '../data/robinson/Robinson Advisory.pdf'}),\n",
       " Document(page_content='6. Compensation:\\n\\n6.1\\n\\nAs full and sole consideration for the Services, and subject to the performance of the Services, the Company shall pay the Advisor, against an invoice provided to the Company by Advisor, hourly fees at a rate of USD 9 (nine) per Billable Hour as defined below, limited to a maximum of USD 1,500 per month (the \"Fees\"). In addition, the Company shall pay the advisor USD 100 per month to finance a workspace for the Advisor, as long as the Advisor actually hires a professional workspace (the “Workspace Expense”). Advisor will not be entitled to any additional fees or expense reimbursement whatsoever, except as expressly provided for in this Agreement.\\n\\nBillable Hour: Net time devoted to the provisioning of the Services, without calculating meals, travels or any other overhead time borne by the Advisor.\\n\\n6.2', metadata={'source': '../data/robinson/Robinson Advisory.pdf'}),\n",
       " Document(page_content='6.4\\n\\nAdvisor shall be solely responsible for any income taxes or other assessments made or imposed to the Services rendered and the by any governmental authority on Advisor with respect compensation received hereunder, and any and all expenses and costs of himself, employees, agents and representatives, including, without limitation, any salary, overtime, severance or social benefits payable thereto, and marketing costs incurred in connection with the performance of obligations hereunder.\\n\\n7. Confidentiality, Non-Competition and IP Ownership Undertaking: In connection with the the Advisor shall execute a performance of Advisor’s obligations under Confidentiality, Non-Competition and IP Ownership Undertaking in the form attached hereto as Exhibit A. this Agreement,', metadata={'source': '../data/robinson/Robinson Advisory.pdf'})]"
      ]
     },
     "execution_count": 133,
     "metadata": {},
     "output_type": "execute_result"
    }
   ],
   "source": [
    "retriever.get_relevant_documents('What are the compensation to the Advisor under the Agreement?')"
   ]
  },
  {
   "cell_type": "markdown",
   "metadata": {},
   "source": [
    "## RAG Chain"
   ]
  },
  {
   "cell_type": "code",
   "execution_count": 134,
   "metadata": {},
   "outputs": [],
   "source": [
    "from langchain_community.chat_models import ChatOllama\n",
    "from langchain_core.prompts import ChatPromptTemplate\n",
    "\n",
    "# Prompt\n",
    "template = \"\"\"Answer the question (by giving reference to the context you used) based only on the following context:\n",
    "{context}\n",
    "\n",
    "Question: {question}\n",
    "\"\"\"\n",
    "prompt = ChatPromptTemplate.from_template(template)\n",
    "\n",
    "# Local LLM\n",
    "ollama_llm = \"mistral:instruct\"\n",
    "model_local = ChatOllama(model=ollama_llm)\n",
    "\n",
    "# Chain\n",
    "chain = (\n",
    "    {\"context\": retriever, \"question\": RunnablePassthrough()}\n",
    "    | prompt\n",
    "    | model_local\n",
    "    | StrOutputParser()\n",
    ")"
   ]
  },
  {
   "cell_type": "code",
   "execution_count": 135,
   "metadata": {},
   "outputs": [
    {
     "data": {
      "text/plain": [
       "' The payments to the Advisor under the Agreement consist of hourly fees at a rate of USD 9 per Billable Hour, limited to a maximum of USD 1,500 per month, and a Workspace Expense of USD 100 per month, as stated in Section 6.1 and 6.2 of the documents provided. However, if it is determined that the Advisor is an employee of the Company, payments to the Advisor shall be reduced so that 60% of such payments shall constitute salary payments, and the remaining 40% shall constitute payment for all other Advisor statutory rights and benefits as an employee throughout the Term (Section 3). The Advisor is also solely responsible for any income taxes or assessments on compensation received under the Agreement, and any expenses and costs related to their performance of obligations under the Agreement (Section 6.4).'"
      ]
     },
     "execution_count": 135,
     "metadata": {},
     "output_type": "execute_result"
    }
   ],
   "source": [
    "chain.invoke(\"What are the payments to the Advisor under the Agreement?\")"
   ]
  },
  {
   "cell_type": "code",
   "execution_count": 118,
   "metadata": {},
   "outputs": [
    {
     "data": {
      "text/plain": [
       "' Yes, based on the context provided, there is a non-compete obligation to the Advisor as stated in Document 6, under the section headed \"Non-Compete.\" During the term of engagement with the Company and for a period of 12 months thereafter, the Advisor shall not be involved in any business that competes with the Company\\'s Business and shall not solicit or hire any employee or service provider of the Company without the prior written consent of the Company.'"
      ]
     },
     "execution_count": 118,
     "metadata": {},
     "output_type": "execute_result"
    }
   ],
   "source": [
    "chain.invoke(\"Is there a non-compete obligation to the Advisor?\")"
   ]
  },
  {
   "cell_type": "code",
   "execution_count": 120,
   "metadata": {},
   "outputs": [
    {
     "data": {
      "text/plain": [
       "' Based on the context provided, the Advisor is not entitled to be reimbursed for meal time as it is explicitly stated that \"Billable Hour: Net time devoted to the provisioning of the Services, without calculating meals, travels or any other overhead time borne by the Advisor.\" Therefore, the answer is no, the Advisor cannot charge for meal time according to this agreement.'"
      ]
     },
     "execution_count": 120,
     "metadata": {},
     "output_type": "execute_result"
    }
   ],
   "source": [
    "chain.invoke('Can the Advisor charge for meal time?')"
   ]
  },
  {
   "cell_type": "code",
   "execution_count": 121,
   "metadata": {},
   "outputs": [
    {
     "data": {
      "text/plain": [
       "' The Advisor lives on Rabin street in Tel Aviv.'"
      ]
     },
     "execution_count": 121,
     "metadata": {},
     "output_type": "execute_result"
    }
   ],
   "source": [
    "chain.invoke('In which street does the Advisor live?')"
   ]
  },
  {
   "cell_type": "code",
   "execution_count": 122,
   "metadata": {},
   "outputs": [
    {
     "data": {
      "text/plain": [
       "' According to the context provided, the Advisor is not entitled to social benefits from the Company as stated in the first document under section \"Relationship of the Parties; Indemnification\". Additionally, the second document under section \"6.4\" states that the Advisor shall be solely responsible for any income taxes or other assessments and all expenses and costs related to compensation received hereunder, which further implies that social benefits are not included in the compensation package for the Advisor.'"
      ]
     },
     "execution_count": 122,
     "metadata": {},
     "output_type": "execute_result"
    }
   ],
   "source": [
    "chain.invoke('Is the Advisor entitled to social benefits?')"
   ]
  },
  {
   "cell_type": "code",
   "execution_count": null,
   "metadata": {},
   "outputs": [],
   "source": []
  }
 ],
 "metadata": {
  "kernelspec": {
   "display_name": "legal_contract_advisor",
   "language": "python",
   "name": "python3"
  },
  "language_info": {
   "codemirror_mode": {
    "name": "ipython",
    "version": 3
   },
   "file_extension": ".py",
   "mimetype": "text/x-python",
   "name": "python",
   "nbconvert_exporter": "python",
   "pygments_lexer": "ipython3",
   "version": "3.10.13"
  }
 },
 "nbformat": 4,
 "nbformat_minor": 2
}
